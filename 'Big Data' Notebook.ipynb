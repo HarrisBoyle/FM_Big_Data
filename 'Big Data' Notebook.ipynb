{
 "cells": [
  {
   "cell_type": "code",
   "execution_count": 2,
   "id": "40291427",
   "metadata": {},
   "outputs": [],
   "source": [
    "import pandas as pd\n",
    "import numpy as np\n",
    "\n",
    "import pyspark\n",
    "from pyspark.rdd import RDD\n",
    "from pyspark.sql import Row\n",
    "from pyspark.sql import DataFrame\n",
    "from pyspark.sql import SparkSession\n",
    "from pyspark.sql import SQLContext\n",
    "from pyspark.sql import functions\n",
    "from pyspark.sql.functions import lit, desc, col, size, array_contains\\\n",
    ", isnan, udf, hour, array_min, array_max, countDistinct\n",
    "from pyspark.sql.types import *\n",
    "\n",
    "from pyspark.ml  import Pipeline     \n",
    "from pyspark.sql.functions import mean,col,split, col, regexp_extract, when, lit"
   ]
  },
  {
   "cell_type": "code",
   "execution_count": 3,
   "id": "18f7ee73",
   "metadata": {},
   "outputs": [],
   "source": [
    "#Create session and allocate additional driver memory\n",
    "spark = SparkSession.builder \\\n",
    "    .master('local[*]') \\\n",
    "    .config(\"spark.driver.memory\", \"16g\") \\\n",
    "    .appName('Hazbuk') \\\n",
    "    .getOrCreate()"
   ]
  },
  {
   "cell_type": "code",
   "execution_count": 4,
   "id": "37f49efe",
   "metadata": {},
   "outputs": [],
   "source": [
    "fm_csv = 'C:/Users/Hazbuk/Documents/University/7153CEM/datafm20.csv'"
   ]
  },
  {
   "cell_type": "code",
   "execution_count": 5,
   "id": "9d11b8e9",
   "metadata": {},
   "outputs": [],
   "source": [
    "fm_data = spark.read.csv(fm_csv, \n",
    "                  inferSchema=True, \n",
    "                  header=True)"
   ]
  },
  {
   "cell_type": "code",
   "execution_count": 6,
   "id": "c88a8e71",
   "metadata": {},
   "outputs": [
    {
     "name": "stdout",
     "output_type": "stream",
     "text": [
      "+---+-----------------+--------------------+---------+--------------------+--------------------+------+------+------+---+--------------+--------+---------+--------+-------+---+---+---+---+---+---+---+---+---+---+---+---+---+---+---+---+---+---+---+---+---+----+---+---+---+---+---+---+---+---+---+---+---+---+---+---+---+---+---+---+---+---+---+---+---+---+---+---+---+\n",
      "|_c0|             Name|            Position|     Club|            Division|               Based|Nation|Height|Weight|Age|Preferred Foot|Best Pos|Best Role|   Value|   Wage| CA| PA|Wor|Vis|Thr|Tec|Tea|Tck|Str|Sta|TRO|Ref|Pun|Pos|Pen|Pas|Pac|1v1|OtB|Nat|Mar|L Th|Lon|Ldr|Kic|Jum|Hea|Han|Fre|Fla|Fir|Fin|Ecc|Dri|Det|Dec|Cro|Cor|Cnt|Cmp|Com|Cmd|Bra|Bal|Ant|Agi|Agg|Aer|Acc|\n",
      "+---+-----------------+--------------------+---------+--------------------+--------------------+------+------+------+---+--------------+--------+---------+--------+-------+---+---+---+---+---+---+---+---+---+---+---+---+---+---+---+---+---+---+---+---+---+----+---+---+---+---+---+---+---+---+---+---+---+---+---+---+---+---+---+---+---+---+---+---+---+---+---+---+---+\n",
      "|  0|     Lionel Messi|     AM (RC), ST (C)|Barcelona|Spanish First Div...|Spain (First Divi...|   ARG|   170|    72| 32|          Left|  AM (R)|       IF|73000000|1200000|195|200|  7| 20|  2| 20| 14|  7|  9| 13|  3|  1|  2|  5| 17| 20| 15|  2| 16| 14|  4|   4| 17| 14|  1|  6| 10|  2| 19| 20| 19| 20|  2| 20| 20| 20| 15| 15| 13| 18|  2|  2| 10| 19| 19| 19|  7|  2| 18|\n",
      "|  1|Cristiano Ronaldo|     AM (RL), ST (C)| Juventus|     Italian Serie A|     Italy (Serie A)|   POR|   185|    83| 34|        Either|  ST (C)|       CF|31000000| 950000|195|196| 10| 14|  2| 17| 10|  8| 16| 15|  3|  2|  2|  6| 20| 15| 16|  2| 18| 20|  4|   3| 19| 17|  3| 17| 19|  3| 15| 18| 17| 19|  1| 15| 20| 18| 15| 13| 16| 14|  4|  1| 16| 14| 18| 13|  6|  2| 15|\n",
      "|  2|   Kylian MbappÃ©|     AM (RL), ST (C)| Paris SG|   Ligue 1 Conforama|France (Ligue 1 C...|   FRA|   178|    73| 20|         Right|  ST (C)|       AF|86000000| 375000|181|196| 10| 13|  1| 17| 10|  2| 11| 14|  2|  1|  1|  2| 15| 13| 20|  3| 18| 15|  2|   2| 12| 10|  4|  8|  7|  3| 10| 18| 16| 17|  3| 18| 14| 16| 13| 10| 13| 18|  2|  1| 12| 14| 17| 16|  6|  4| 20|\n",
      "|  3|     Manuel Neuer|                  GK|FC Bayern|          Bundesliga|Germany (Bundesliga)|   GER|   192|    90| 33|        Either|      GK|       SK|44000000| 250000|176|193| 14| 12| 19| 12| 18|  3| 16| 10| 20| 14|  8| 15| 10| 13| 10| 15|  1| 13|  3|   3|  3| 13| 18| 15| 10| 14| 13|  6| 13|  3| 18|  3| 18| 16|  2| 10| 15| 20| 12| 17| 14| 14| 19| 15|  8| 14| 13|\n",
      "|  4|           Neymar|M (L), AM (LC), S...| Paris SG|   Ligue 1 Conforama|France (Ligue 1 C...|   BRA|   175|    68| 27|         Right|  AM (L)|       IW|91000000| 600000|186|190| 10| 16|  1| 20|  8|  1| 10| 13|  1|  4|  2|  2| 17| 16| 16|  1| 18| 14|  1|   2| 15| 14|  2|  6|  8|  2| 17| 20| 18| 16|  1| 20| 16| 15| 16| 16| 10| 17|  3|  1| 14| 14| 16| 18| 10|  4| 17|\n",
      "+---+-----------------+--------------------+---------+--------------------+--------------------+------+------+------+---+--------------+--------+---------+--------+-------+---+---+---+---+---+---+---+---+---+---+---+---+---+---+---+---+---+---+---+---+---+----+---+---+---+---+---+---+---+---+---+---+---+---+---+---+---+---+---+---+---+---+---+---+---+---+---+---+---+\n",
      "only showing top 5 rows\n",
      "\n"
     ]
    }
   ],
   "source": [
    "#Quick view of the data\n",
    "fm_data.show(5)"
   ]
  },
  {
   "cell_type": "code",
   "execution_count": 7,
   "id": "84f222fc",
   "metadata": {},
   "outputs": [
    {
     "name": "stdout",
     "output_type": "stream",
     "text": [
      "Original Rows:  144750\n",
      "Duplicated Rows:  0\n"
     ]
    }
   ],
   "source": [
    "#count the number rows\n",
    "Original = fm_data.count()\n",
    "print(\"Original Rows: \", Original)\n",
    "#count the number of potential duplicates (removing later if necessary)\n",
    "dupe_count = fm_data.dropDuplicates().count()\n",
    "\n",
    "#Calculate how many duplicate rows exist\n",
    "Duplicated = Original - dupe_count\n",
    "print(\"Duplicated Rows: \", Duplicated)"
   ]
  },
  {
   "cell_type": "code",
   "execution_count": 15,
   "id": "db0613ea",
   "metadata": {},
   "outputs": [
    {
     "name": "stdout",
     "output_type": "stream",
     "text": [
      "Number of columns:  64\n"
     ]
    }
   ],
   "source": [
    "#count the columns\n",
    "print(\"Number of columns: \", len(fm_data.columns))"
   ]
  },
  {
   "cell_type": "code",
   "execution_count": 17,
   "id": "9e3cdbba",
   "metadata": {},
   "outputs": [
    {
     "name": "stdout",
     "output_type": "stream",
     "text": [
      "Number of N/As:  0\n"
     ]
    }
   ],
   "source": [
    "NA = fm_data.dropDuplicates().dropna(\n",
    "    how=\"any\")# use how=\"all\" for missing data in the entire column\n",
    "MissingVals = Original - NA.count()\n",
    "print(\"Number of N/As: \", MissingVals)"
   ]
  },
  {
   "cell_type": "code",
   "execution_count": 18,
   "id": "2689ae8a",
   "metadata": {},
   "outputs": [
    {
     "name": "stdout",
     "output_type": "stream",
     "text": [
      "+------+-----+\n",
      "|Nation|count|\n",
      "+------+-----+\n",
      "|   ARG|10254|\n",
      "|   BRA| 7935|\n",
      "|   FRA| 5546|\n",
      "|   ENG| 5050|\n",
      "|   ESP| 4763|\n",
      "|   POL| 4220|\n",
      "|   ITA| 3833|\n",
      "|   GRE| 3452|\n",
      "|   GER| 3327|\n",
      "|   CHN| 2979|\n",
      "|   HUN| 2928|\n",
      "|   URU| 2825|\n",
      "|   COL| 2709|\n",
      "|   AUS| 2708|\n",
      "|   DEN| 2692|\n",
      "|   SRB| 2550|\n",
      "|   FIN| 2490|\n",
      "|   CHI| 2481|\n",
      "|   ISR| 2459|\n",
      "|   POR| 2455|\n",
      "+------+-----+\n",
      "only showing top 20 rows\n",
      "\n"
     ]
    }
   ],
   "source": [
    "#The number of players by Nation\n",
    "fm_data.groupBy('Nation').count().sort(\"count\",ascending=False).show()"
   ]
  },
  {
   "cell_type": "code",
   "execution_count": 19,
   "id": "5b1c293e",
   "metadata": {},
   "outputs": [
    {
     "name": "stdout",
     "output_type": "stream",
     "text": [
      "+------+------------------+\n",
      "|Nation|        avg(Value)|\n",
      "+------+------------------+\n",
      "|   EGY|      2142448.4375|\n",
      "|   GAB| 1721617.013888889|\n",
      "|   ALG| 1687238.743169399|\n",
      "|   ARM|1530733.5714285714|\n",
      "|   CRC|1447689.2857142857|\n",
      "|   SUR|1095454.5454545454|\n",
      "|   SKN|1060571.4285714286|\n",
      "|   ECU|1057350.8142857142|\n",
      "|   UAE|1053695.1219512196|\n",
      "|   CTA|1044086.6071428572|\n",
      "|   SEN|1029317.6704545454|\n",
      "|   DOM|1027591.2962962963|\n",
      "|   KSA|1024111.5107913669|\n",
      "|   ESP|1006478.0342221289|\n",
      "|   CIV| 983811.8086560365|\n",
      "|   ENG| 915278.8336633664|\n",
      "|   JAM| 843449.8198198198|\n",
      "|   QAT| 825354.8387096775|\n",
      "|   TAN| 814333.3333333334|\n",
      "|   GER| 810274.5082657048|\n",
      "+------+------------------+\n",
      "only showing top 20 rows\n",
      "\n"
     ]
    }
   ],
   "source": [
    "#The average value of players by Nation\n",
    "fm_data.groupBy('Nation').mean('Value').sort(\"avg(Value)\",ascending=False).show()"
   ]
  },
  {
   "cell_type": "code",
   "execution_count": 20,
   "id": "acb2eef2",
   "metadata": {},
   "outputs": [
    {
     "name": "stdout",
     "output_type": "stream",
     "text": [
      "+----------+-----+\n",
      "|      Club|count|\n",
      "+----------+-----+\n",
      "|   Unknown|20717|\n",
      "|  Selangor|  137|\n",
      "|    VÃ©lez|  124|\n",
      "|     Perak|  122|\n",
      "|Terengganu|  116|\n",
      "|     Genoa|  107|\n",
      "|  Sassuolo|  107|\n",
      "|    Torino|  106|\n",
      "|       VIT|  105|\n",
      "|  Johor DT|  103|\n",
      "|  Juventus|  103|\n",
      "|     Inter|  102|\n",
      "| Sampdoria|  102|\n",
      "|  EC Bahia|  101|\n",
      "|    Dinamo|  101|\n",
      "|  Aldosivi|   95|\n",
      "|  Sporting|   93|\n",
      "|      Boca|   93|\n",
      "|     Milan|   93|\n",
      "|      Roma|   91|\n",
      "+----------+-----+\n",
      "only showing top 20 rows\n",
      "\n"
     ]
    }
   ],
   "source": [
    "#The number of players by Club\n",
    "fm_data.groupBy('Club').count().sort(\"count\",ascending=False).show()"
   ]
  },
  {
   "cell_type": "code",
   "execution_count": 34,
   "id": "b612ea06",
   "metadata": {},
   "outputs": [
    {
     "name": "stdout",
     "output_type": "stream",
     "text": [
      "Unknowns removed:  20717\n"
     ]
    }
   ],
   "source": [
    "#Remove players with \"Unknown\" clubs from the data set\n",
    "fm_data_filtered = fm_data.filter(fm_data['Club']!=\"Unknown\")\n",
    "\n",
    "unknowns = Original - fm_data_filtered.count()\n",
    "print(\"Unknowns removed: \", unknowns)"
   ]
  },
  {
   "cell_type": "code",
   "execution_count": 35,
   "id": "9facba9c",
   "metadata": {},
   "outputs": [
    {
     "name": "stdout",
     "output_type": "stream",
     "text": [
      "+----------+-----+\n",
      "|      Club|count|\n",
      "+----------+-----+\n",
      "|  Selangor|  137|\n",
      "|    VÃ©lez|  124|\n",
      "|     Perak|  122|\n",
      "|Terengganu|  116|\n",
      "|     Genoa|  107|\n",
      "|  Sassuolo|  107|\n",
      "|    Torino|  106|\n",
      "|       VIT|  105|\n",
      "|  Juventus|  103|\n",
      "|  Johor DT|  103|\n",
      "| Sampdoria|  102|\n",
      "|     Inter|  102|\n",
      "|  EC Bahia|  101|\n",
      "|    Dinamo|  101|\n",
      "|  Aldosivi|   95|\n",
      "|  Sporting|   93|\n",
      "|     Milan|   93|\n",
      "|      Boca|   93|\n",
      "|      Roma|   91|\n",
      "|  Atalanta|   90|\n",
      "+----------+-----+\n",
      "only showing top 20 rows\n",
      "\n"
     ]
    }
   ],
   "source": [
    "#The number of players by Club\n",
    "fm_data_filtered.groupBy('Club').count().sort(\"count\",ascending=False).show()"
   ]
  },
  {
   "cell_type": "code",
   "execution_count": 36,
   "id": "0dea7d50",
   "metadata": {},
   "outputs": [
    {
     "name": "stdout",
     "output_type": "stream",
     "text": [
      "+-----------------+--------------------+\n",
      "|             Club|          avg(Value)|\n",
      "+-----------------+--------------------+\n",
      "|        FC Bayern|2.4425742424242426E7|\n",
      "|         Man City|1.8380380555555556E7|\n",
      "|        R. Madrid|        1.78641875E7|\n",
      "|        Barcelona|1.6751056603773585E7|\n",
      "|        A. Madrid|1.5329563829787234E7|\n",
      "|        Liverpool|1.5294201515151516E7|\n",
      "|Borussia Dortmund|          1.404375E7|\n",
      "|          Man Utd|1.3684573636363637E7|\n",
      "|        Tottenham|1.3497091666666666E7|\n",
      "|          Arsenal|1.2733009615384616E7|\n",
      "|          Sevilla|1.2623111842105264E7|\n",
      "|         Paris SG|     1.08052890625E7|\n",
      "|       Real Betis|1.0724103448275862E7|\n",
      "|          Everton|           9638800.0|\n",
      "|         Bayer 04|   9244176.470588235|\n",
      "|        Leicester|   9113058.035714285|\n",
      "|       RB Leipzig|   8516366.633333333|\n",
      "|       Villarreal|   8381359.756097561|\n",
      "|           Wolves|   7559096.153846154|\n",
      "|    Real Sociedad|   7543831.707317073|\n",
      "+-----------------+--------------------+\n",
      "only showing top 20 rows\n",
      "\n"
     ]
    }
   ],
   "source": [
    "#The average value of players by Club\n",
    "fm_data_filtered.groupBy('Club').mean('Value').sort(\"avg(Value)\",ascending=False).show()"
   ]
  },
  {
   "cell_type": "code",
   "execution_count": 37,
   "id": "fc0065d4",
   "metadata": {},
   "outputs": [],
   "source": [
    "#Using tableau as part of the pre-processing analysis we see that the \"Based\" column actually contains \n",
    "#several duplications with respect to location (requiring the division for example)\n",
    "#we will attempt to clean this up as best as possible using regular expressions\n",
    "\n",
    "from pyspark.sql.functions import regexp_replace\n",
    "\n",
    "fm_data_filtered = fm_data_filtered.withColumn('Based',regexp_replace('Based','\\W\\(.+',''))"
   ]
  },
  {
   "cell_type": "code",
   "execution_count": 38,
   "id": "725293e7",
   "metadata": {},
   "outputs": [
    {
     "name": "stdout",
     "output_type": "stream",
     "text": [
      "+---+-----------------+--------------------+---------+--------------------+-------+------+------+------+---+--------------+--------+---------+--------+-------+---+---+---+---+---+---+---+---+---+---+---+---+---+---+---+---+---+---+---+---+---+----+---+---+---+---+---+---+---+---+---+---+---+---+---+---+---+---+---+---+---+---+---+---+---+---+---+---+---+\n",
      "|_c0|             Name|            Position|     Club|            Division|  Based|Nation|Height|Weight|Age|Preferred Foot|Best Pos|Best Role|   Value|   Wage| CA| PA|Wor|Vis|Thr|Tec|Tea|Tck|Str|Sta|TRO|Ref|Pun|Pos|Pen|Pas|Pac|1v1|OtB|Nat|Mar|L Th|Lon|Ldr|Kic|Jum|Hea|Han|Fre|Fla|Fir|Fin|Ecc|Dri|Det|Dec|Cro|Cor|Cnt|Cmp|Com|Cmd|Bra|Bal|Ant|Agi|Agg|Aer|Acc|\n",
      "+---+-----------------+--------------------+---------+--------------------+-------+------+------+------+---+--------------+--------+---------+--------+-------+---+---+---+---+---+---+---+---+---+---+---+---+---+---+---+---+---+---+---+---+---+----+---+---+---+---+---+---+---+---+---+---+---+---+---+---+---+---+---+---+---+---+---+---+---+---+---+---+---+\n",
      "|  0|     Lionel Messi|     AM (RC), ST (C)|Barcelona|Spanish First Div...|  Spain|   ARG|   170|    72| 32|          Left|  AM (R)|       IF|73000000|1200000|195|200|  7| 20|  2| 20| 14|  7|  9| 13|  3|  1|  2|  5| 17| 20| 15|  2| 16| 14|  4|   4| 17| 14|  1|  6| 10|  2| 19| 20| 19| 20|  2| 20| 20| 20| 15| 15| 13| 18|  2|  2| 10| 19| 19| 19|  7|  2| 18|\n",
      "|  1|Cristiano Ronaldo|     AM (RL), ST (C)| Juventus|     Italian Serie A|  Italy|   POR|   185|    83| 34|        Either|  ST (C)|       CF|31000000| 950000|195|196| 10| 14|  2| 17| 10|  8| 16| 15|  3|  2|  2|  6| 20| 15| 16|  2| 18| 20|  4|   3| 19| 17|  3| 17| 19|  3| 15| 18| 17| 19|  1| 15| 20| 18| 15| 13| 16| 14|  4|  1| 16| 14| 18| 13|  6|  2| 15|\n",
      "|  2|   Kylian MbappÃ©|     AM (RL), ST (C)| Paris SG|   Ligue 1 Conforama| France|   FRA|   178|    73| 20|         Right|  ST (C)|       AF|86000000| 375000|181|196| 10| 13|  1| 17| 10|  2| 11| 14|  2|  1|  1|  2| 15| 13| 20|  3| 18| 15|  2|   2| 12| 10|  4|  8|  7|  3| 10| 18| 16| 17|  3| 18| 14| 16| 13| 10| 13| 18|  2|  1| 12| 14| 17| 16|  6|  4| 20|\n",
      "|  3|     Manuel Neuer|                  GK|FC Bayern|          Bundesliga|Germany|   GER|   192|    90| 33|        Either|      GK|       SK|44000000| 250000|176|193| 14| 12| 19| 12| 18|  3| 16| 10| 20| 14|  8| 15| 10| 13| 10| 15|  1| 13|  3|   3|  3| 13| 18| 15| 10| 14| 13|  6| 13|  3| 18|  3| 18| 16|  2| 10| 15| 20| 12| 17| 14| 14| 19| 15|  8| 14| 13|\n",
      "|  4|           Neymar|M (L), AM (LC), S...| Paris SG|   Ligue 1 Conforama| France|   BRA|   175|    68| 27|         Right|  AM (L)|       IW|91000000| 600000|186|190| 10| 16|  1| 20|  8|  1| 10| 13|  1|  4|  2|  2| 17| 16| 16|  1| 18| 14|  1|   2| 15| 14|  2|  6|  8|  2| 17| 20| 18| 16|  1| 20| 16| 15| 16| 16| 10| 17|  3|  1| 14| 14| 16| 18| 10|  4| 17|\n",
      "+---+-----------------+--------------------+---------+--------------------+-------+------+------+------+---+--------------+--------+---------+--------+-------+---+---+---+---+---+---+---+---+---+---+---+---+---+---+---+---+---+---+---+---+---+----+---+---+---+---+---+---+---+---+---+---+---+---+---+---+---+---+---+---+---+---+---+---+---+---+---+---+---+\n",
      "only showing top 5 rows\n",
      "\n"
     ]
    }
   ],
   "source": [
    "#Checking this below we can see that the column has now been cleansed and will more accurately\n",
    "#represent the country in which a player is based\n",
    "fm_data_filtered.show(5)"
   ]
  },
  {
   "cell_type": "code",
   "execution_count": 39,
   "id": "4dfe8eb8",
   "metadata": {},
   "outputs": [
    {
     "name": "stdout",
     "output_type": "stream",
     "text": [
      "Combinations of Position: 781\n"
     ]
    }
   ],
   "source": [
    "#Position details every possible position a player can play, and contains a large variety of combinations,\n",
    "#781, as shown below, this is clearly too many to properly categorise, as such \"Best Pos\" may be a better\n",
    "#column to use. As such we will drop \"Position\" as it is very messy when compared to \"Best Pos\"\n",
    "print('Combinations of Position:', fm_data_filtered.select('Position').distinct().count())\n",
    "\n",
    "fm_data_filtered = fm_data_filtered.drop(*['Position'])"
   ]
  },
  {
   "cell_type": "code",
   "execution_count": 40,
   "id": "57f6ba9e",
   "metadata": {},
   "outputs": [
    {
     "name": "stdout",
     "output_type": "stream",
     "text": [
      "Distinct Best Pos: 14\n",
      "Distinct Best Role: 44\n"
     ]
    }
   ],
   "source": [
    "#As a check, the below shows the distinct best role and best position categories, these are clearly better\n",
    "print('Distinct Best Pos:', fm_data_filtered.select('Best Pos').distinct().count())\n",
    "print('Distinct Best Role:', fm_data_filtered.select('Best Role').distinct().count())"
   ]
  },
  {
   "cell_type": "code",
   "execution_count": 41,
   "id": "a6c9a616",
   "metadata": {},
   "outputs": [
    {
     "name": "stdout",
     "output_type": "stream",
     "text": [
      "Distinct Clubs: 10220\n",
      "Distinct Divisions: 1215\n"
     ]
    }
   ],
   "source": [
    "print('Distinct Clubs:', fm_data_filtered.select('Club').distinct().count())\n",
    "print('Distinct Divisions:', fm_data_filtered.select('Division').distinct().count())"
   ]
  },
  {
   "cell_type": "code",
   "execution_count": 42,
   "id": "730b15b9",
   "metadata": {},
   "outputs": [
    {
     "name": "stdout",
     "output_type": "stream",
     "text": [
      "Distinct Nations: 212\n",
      "Distinct \"Based\": 185\n",
      "-----\n",
      "Distinct Clubs: 10220\n",
      "Distinct Divisions: 1215\n"
     ]
    }
   ],
   "source": [
    "#Nation and the country a player is Based in would potentially have some impact on the value\n",
    "#of a player, as such these will be left in the analysis\n",
    "print('Distinct Nations:', fm_data_filtered.select('Nation').distinct().count())\n",
    "print('Distinct \"Based\":', fm_data_filtered.select('Based').distinct().count())\n",
    "print('-----')\n",
    "#However Club and Division, while having impact, are more an indicator of the fact a division / club \n",
    "#is more affluent (and thus can afford said player), rather than a direct indicator of a \n",
    "#particular players value. As such, these will be excluded also. Particularly also as they are very \n",
    "#large in terms of unique values. One posibility would be to restrict to a particular division for\n",
    "#a separate analysis and perhaps build individual models for each division.\n",
    "print('Distinct Clubs:', fm_data_filtered.select('Club').distinct().count())\n",
    "print('Distinct Divisions:', fm_data_filtered.select('Division').distinct().count())\n",
    "\n",
    "fm_data_filtered = fm_data_filtered.drop(*['Club','Division'])"
   ]
  },
  {
   "cell_type": "code",
   "execution_count": 44,
   "id": "9f755a5c",
   "metadata": {},
   "outputs": [
    {
     "name": "stdout",
     "output_type": "stream",
     "text": [
      "root\n",
      " |-- _c0: integer (nullable = true)\n",
      " |-- Name: string (nullable = true)\n",
      " |-- Based: string (nullable = true)\n",
      " |-- Nation: string (nullable = true)\n",
      " |-- Height: integer (nullable = true)\n",
      " |-- Weight: integer (nullable = true)\n",
      " |-- Age: integer (nullable = true)\n",
      " |-- Preferred Foot: string (nullable = true)\n",
      " |-- Best Pos: string (nullable = true)\n",
      " |-- Best Role: string (nullable = true)\n",
      " |-- Value: integer (nullable = true)\n",
      " |-- Wage: integer (nullable = true)\n",
      " |-- CA: integer (nullable = true)\n",
      " |-- PA: integer (nullable = true)\n",
      " |-- Wor: integer (nullable = true)\n",
      " |-- Vis: integer (nullable = true)\n",
      " |-- Thr: integer (nullable = true)\n",
      " |-- Tec: integer (nullable = true)\n",
      " |-- Tea: integer (nullable = true)\n",
      " |-- Tck: integer (nullable = true)\n",
      " |-- Str: integer (nullable = true)\n",
      " |-- Sta: integer (nullable = true)\n",
      " |-- TRO: integer (nullable = true)\n",
      " |-- Ref: integer (nullable = true)\n",
      " |-- Pun: integer (nullable = true)\n",
      " |-- Pos: integer (nullable = true)\n",
      " |-- Pen: integer (nullable = true)\n",
      " |-- Pas: integer (nullable = true)\n",
      " |-- Pac: integer (nullable = true)\n",
      " |-- 1v1: integer (nullable = true)\n",
      " |-- OtB: integer (nullable = true)\n",
      " |-- Nat: integer (nullable = true)\n",
      " |-- Mar: integer (nullable = true)\n",
      " |-- L Th: integer (nullable = true)\n",
      " |-- Lon: integer (nullable = true)\n",
      " |-- Ldr: integer (nullable = true)\n",
      " |-- Kic: integer (nullable = true)\n",
      " |-- Jum: integer (nullable = true)\n",
      " |-- Hea: integer (nullable = true)\n",
      " |-- Han: integer (nullable = true)\n",
      " |-- Fre: integer (nullable = true)\n",
      " |-- Fla: integer (nullable = true)\n",
      " |-- Fir: integer (nullable = true)\n",
      " |-- Fin: integer (nullable = true)\n",
      " |-- Ecc: integer (nullable = true)\n",
      " |-- Dri: integer (nullable = true)\n",
      " |-- Det: integer (nullable = true)\n",
      " |-- Dec: integer (nullable = true)\n",
      " |-- Cro: integer (nullable = true)\n",
      " |-- Cor: integer (nullable = true)\n",
      " |-- Cnt: integer (nullable = true)\n",
      " |-- Cmp: integer (nullable = true)\n",
      " |-- Com: integer (nullable = true)\n",
      " |-- Cmd: integer (nullable = true)\n",
      " |-- Bra: integer (nullable = true)\n",
      " |-- Bal: integer (nullable = true)\n",
      " |-- Ant: integer (nullable = true)\n",
      " |-- Agi: integer (nullable = true)\n",
      " |-- Agg: integer (nullable = true)\n",
      " |-- Aer: integer (nullable = true)\n",
      " |-- Acc: integer (nullable = true)\n",
      "\n"
     ]
    }
   ],
   "source": [
    "#Now that general cleansing has been completed, we must encode our categorical data for use in \n",
    "#Machine Learning models. Simply because these models will only accept numerical values.\n",
    "\n",
    "#Print the Schema to check which columns need encoding\n",
    "fm_data_filtered.printSchema()\n",
    "#Based, Nation, Best Pos, Best Role, Preferred Foot"
   ]
  },
  {
   "cell_type": "code",
   "execution_count": 45,
   "id": "9ace357a",
   "metadata": {},
   "outputs": [],
   "source": [
    "#Set a new frame for the ML Data Set\n",
    "fm_data_ml = fm_data_filtered\n",
    "\n",
    "#Dropping the Name column as this will need removing for ML analysis\n",
    "fm_data_ml = fm_data_ml.drop('Name')"
   ]
  },
  {
   "cell_type": "code",
   "execution_count": 46,
   "id": "116fe3d4",
   "metadata": {},
   "outputs": [],
   "source": [
    "#We can see which variables are \"string\" type and thus may need encoding above.\n",
    "#Clearly name will not be encoded as it will not be a predictor in our model\n",
    "\n",
    "from pyspark.ml.feature import StringIndexer, OneHotEncoderEstimator, VectorIndexer\n",
    "\n",
    "#Use StringIndexer to encode the categorical variables:\n",
    "#Based, Nation, Best Pos, Best Role, Preferred Foot\n",
    "SI_Based = StringIndexer(inputCol='Based',outputCol='Based_Index')\n",
    "SI_Nation = StringIndexer(inputCol='Nation',outputCol='Nation_Index')\n",
    "SI_BestPos = StringIndexer(inputCol='Best Pos',outputCol='BestPos_Index')\n",
    "SI_BestRole = StringIndexer(inputCol='Best Role',outputCol='BestRole_Index')\n",
    "SI_PreferredFoot = StringIndexer(inputCol='Preferred Foot',outputCol='PreferredFoot_Index')\n",
    "\n",
    "#Perform the indexing transformations\n",
    "fm_data_ml = SI_Based.fit(fm_data_ml).transform(fm_data_ml)\n",
    "fm_data_ml = SI_Nation.fit(fm_data_ml).transform(fm_data_ml)\n",
    "fm_data_ml = SI_BestPos.fit(fm_data_ml).transform(fm_data_ml)\n",
    "fm_data_ml = SI_BestRole.fit(fm_data_ml).transform(fm_data_ml)\n",
    "fm_data_ml = SI_PreferredFoot.fit(fm_data_ml).transform(fm_data_ml)\n",
    "\n",
    "\n"
   ]
  },
  {
   "cell_type": "code",
   "execution_count": 47,
   "id": "31014382",
   "metadata": {},
   "outputs": [
    {
     "name": "stdout",
     "output_type": "stream",
     "text": [
      "+-------+-----------+------+------------+--------+-------------+---------+--------------+--------------+-------------------+\n",
      "|  Based|Based_Index|Nation|Nation_Index|Best Pos|BestPos_Index|Best Role|BestRole_Index|Preferred Foot|PreferredFoot_Index|\n",
      "+-------+-----------+------+------------+--------+-------------+---------+--------------+--------------+-------------------+\n",
      "|  Spain|        4.0|   ARG|         0.0|  AM (R)|          5.0|       IF|          33.0|          Left|                2.0|\n",
      "|  Italy|        5.0|   POR|        13.0|  ST (C)|          1.0|       CF|          39.0|        Either|                4.0|\n",
      "| France|        2.0|   FRA|         2.0|  ST (C)|          1.0|       AF|          11.0|         Right|                0.0|\n",
      "|Germany|        7.0|   GER|         7.0|      GK|          3.0|       SK|           5.0|        Either|                4.0|\n",
      "| France|        2.0|   BRA|         1.0|  AM (L)|          8.0|       IW|           7.0|         Right|                0.0|\n",
      "|Germany|        7.0|   NOR|        31.0|  ST (C)|          1.0|       AF|          11.0|          Left|                2.0|\n",
      "|England|        1.0|   BEL|        36.0|   M (C)|          2.0|      MEZ|          15.0|        Either|                4.0|\n",
      "|  Spain|        4.0|   URU|        11.0|  ST (C)|          1.0|      DLF|          30.0|         Right|                0.0|\n",
      "|  Italy|        5.0|   ITA|         6.0|      GK|          3.0|       SK|           5.0|    Right Only|                1.0|\n",
      "|England|        1.0|   WAL|        52.0|  AM (L)|          8.0|        W|           0.0|          Left|                2.0|\n",
      "|  Spain|        4.0|   FRA|         2.0|  ST (C)|          1.0|       AF|          11.0|          Left|                2.0|\n",
      "|  Spain|        4.0|   BEL|        36.0|  AM (L)|          8.0|       IW|           7.0|        Either|                4.0|\n",
      "|England|        1.0|   ENG|         3.0|  ST (C)|          1.0|      DLF|          30.0|        Either|                4.0|\n",
      "|  Italy|        5.0|   SWE|        30.0|  ST (C)|          1.0|      DLF|          30.0|        Either|                4.0|\n",
      "|England|        1.0|   EGY|        98.0|  AM (R)|          5.0|       IF|          33.0|          Left|                2.0|\n",
      "|Germany|        7.0|   POL|         5.0|  ST (C)|          1.0|       PF|          14.0|         Right|                0.0|\n",
      "|England|        1.0|   SEN|        58.0|  AM (L)|          8.0|       IF|          33.0|         Right|                0.0|\n",
      "|England|        1.0|   NED|        18.0|   D (C)|          0.0|      BPD|          25.0|         Right|                0.0|\n",
      "|  Japan|       64.0|   ESP|         4.0|   M (C)|          2.0|       AP|           8.0|        Either|                4.0|\n",
      "|  Italy|        5.0|   SWE|        30.0|   M (R)|         10.0|       IW|           7.0|          Left|                2.0|\n",
      "+-------+-----------+------+------------+--------+-------------+---------+--------------+--------------+-------------------+\n",
      "only showing top 20 rows\n",
      "\n"
     ]
    }
   ],
   "source": [
    "#Show the resulting Indexes next to their original categories\n",
    "fm_data_ml.select('Based','Based_Index',\n",
    "                  'Nation','Nation_Index',\n",
    "                  'Best Pos','BestPos_Index',\n",
    "                  'Best Role','BestRole_Index',\n",
    "                  'Preferred Foot','PreferredFoot_Index').show()"
   ]
  },
  {
   "cell_type": "code",
   "execution_count": 48,
   "id": "524af149",
   "metadata": {},
   "outputs": [],
   "source": [
    "#Next we use One Hot Encoding \n",
    "OHE = OneHotEncoderEstimator(inputCols=['Based_Index', \n",
    "                                        'Nation_Index',\n",
    "                                        'BestPos_Index',\n",
    "                                        'BestRole_Index',\n",
    "                                        'PreferredFoot_Index'],\n",
    "                             outputCols=['Based_OHE', \n",
    "                                         'Nation_OHE',\n",
    "                                         'BestPos_OHE',\n",
    "                                         'BestRole_OHE',\n",
    "                                         'PreferredFoot_OHE'])\n",
    "\n",
    "#Perform the OHE transformation\n",
    "fm_data_ml = OHE.fit(fm_data_ml).transform(fm_data_ml)\n",
    "\n"
   ]
  },
  {
   "cell_type": "code",
   "execution_count": 49,
   "id": "d8b08432",
   "metadata": {},
   "outputs": [
    {
     "name": "stdout",
     "output_type": "stream",
     "text": [
      "+-------+----------------+------+----------------+--------+---------------+---------+---------------+--------------+-----------------+\n",
      "|  Based|       Based_OHE|Nation|      Nation_OHE|Best Pos|    BestPos_OHE|Best Role|   BestRole_OHE|Preferred Foot|PreferredFoot_OHE|\n",
      "+-------+----------------+------+----------------+--------+---------------+---------+---------------+--------------+-----------------+\n",
      "|  Spain| (184,[4],[1.0])|   ARG| (211,[0],[1.0])|  AM (R)| (13,[5],[1.0])|       IF|(43,[33],[1.0])|          Left|    (4,[2],[1.0])|\n",
      "|  Italy| (184,[5],[1.0])|   POR|(211,[13],[1.0])|  ST (C)| (13,[1],[1.0])|       CF|(43,[39],[1.0])|        Either|        (4,[],[])|\n",
      "| France| (184,[2],[1.0])|   FRA| (211,[2],[1.0])|  ST (C)| (13,[1],[1.0])|       AF|(43,[11],[1.0])|         Right|    (4,[0],[1.0])|\n",
      "|Germany| (184,[7],[1.0])|   GER| (211,[7],[1.0])|      GK| (13,[3],[1.0])|       SK| (43,[5],[1.0])|        Either|        (4,[],[])|\n",
      "| France| (184,[2],[1.0])|   BRA| (211,[1],[1.0])|  AM (L)| (13,[8],[1.0])|       IW| (43,[7],[1.0])|         Right|    (4,[0],[1.0])|\n",
      "|Germany| (184,[7],[1.0])|   NOR|(211,[31],[1.0])|  ST (C)| (13,[1],[1.0])|       AF|(43,[11],[1.0])|          Left|    (4,[2],[1.0])|\n",
      "|England| (184,[1],[1.0])|   BEL|(211,[36],[1.0])|   M (C)| (13,[2],[1.0])|      MEZ|(43,[15],[1.0])|        Either|        (4,[],[])|\n",
      "|  Spain| (184,[4],[1.0])|   URU|(211,[11],[1.0])|  ST (C)| (13,[1],[1.0])|      DLF|(43,[30],[1.0])|         Right|    (4,[0],[1.0])|\n",
      "|  Italy| (184,[5],[1.0])|   ITA| (211,[6],[1.0])|      GK| (13,[3],[1.0])|       SK| (43,[5],[1.0])|    Right Only|    (4,[1],[1.0])|\n",
      "|England| (184,[1],[1.0])|   WAL|(211,[52],[1.0])|  AM (L)| (13,[8],[1.0])|        W| (43,[0],[1.0])|          Left|    (4,[2],[1.0])|\n",
      "|  Spain| (184,[4],[1.0])|   FRA| (211,[2],[1.0])|  ST (C)| (13,[1],[1.0])|       AF|(43,[11],[1.0])|          Left|    (4,[2],[1.0])|\n",
      "|  Spain| (184,[4],[1.0])|   BEL|(211,[36],[1.0])|  AM (L)| (13,[8],[1.0])|       IW| (43,[7],[1.0])|        Either|        (4,[],[])|\n",
      "|England| (184,[1],[1.0])|   ENG| (211,[3],[1.0])|  ST (C)| (13,[1],[1.0])|      DLF|(43,[30],[1.0])|        Either|        (4,[],[])|\n",
      "|  Italy| (184,[5],[1.0])|   SWE|(211,[30],[1.0])|  ST (C)| (13,[1],[1.0])|      DLF|(43,[30],[1.0])|        Either|        (4,[],[])|\n",
      "|England| (184,[1],[1.0])|   EGY|(211,[98],[1.0])|  AM (R)| (13,[5],[1.0])|       IF|(43,[33],[1.0])|          Left|    (4,[2],[1.0])|\n",
      "|Germany| (184,[7],[1.0])|   POL| (211,[5],[1.0])|  ST (C)| (13,[1],[1.0])|       PF|(43,[14],[1.0])|         Right|    (4,[0],[1.0])|\n",
      "|England| (184,[1],[1.0])|   SEN|(211,[58],[1.0])|  AM (L)| (13,[8],[1.0])|       IF|(43,[33],[1.0])|         Right|    (4,[0],[1.0])|\n",
      "|England| (184,[1],[1.0])|   NED|(211,[18],[1.0])|   D (C)| (13,[0],[1.0])|      BPD|(43,[25],[1.0])|         Right|    (4,[0],[1.0])|\n",
      "|  Japan|(184,[64],[1.0])|   ESP| (211,[4],[1.0])|   M (C)| (13,[2],[1.0])|       AP| (43,[8],[1.0])|        Either|        (4,[],[])|\n",
      "|  Italy| (184,[5],[1.0])|   SWE|(211,[30],[1.0])|   M (R)|(13,[10],[1.0])|       IW| (43,[7],[1.0])|          Left|    (4,[2],[1.0])|\n",
      "+-------+----------------+------+----------------+--------+---------------+---------+---------------+--------------+-----------------+\n",
      "only showing top 20 rows\n",
      "\n"
     ]
    }
   ],
   "source": [
    "#Show the resulting Indexes next to their original categories\n",
    "fm_data_ml.select('Based','Based_OHE',\n",
    "                  'Nation','Nation_OHE',\n",
    "                  'Best Pos','BestPos_OHE',\n",
    "                  'Best Role','BestRole_OHE',\n",
    "                  'Preferred Foot','PreferredFoot_OHE').show()"
   ]
  },
  {
   "cell_type": "code",
   "execution_count": 50,
   "id": "4356fcd4",
   "metadata": {},
   "outputs": [],
   "source": [
    "# features_to_scale = fm_data_ml.drop(*['_c0',\n",
    "#                                         'Based',\n",
    "#                                         'Nation',\n",
    "#                                         'Preferred Foot',\n",
    "#                                         'Best Pos',\n",
    "#                                         'Best Role',\n",
    "#                                         'Based_Index',\n",
    "#                                         'Nation_Index',\n",
    "#                                         'BestPos_Index',\n",
    "#                                         'BestRole_Index',\n",
    "#                                         'PreferredFoot_Index',\n",
    "#                                         'Based_OHE',\n",
    "#                                         'BestPos_OHE',\n",
    "#                                         'PreferredFoot_OHE',\n",
    "#                                         'BestRole_OHE',\n",
    "#                                         'Nation_OHE'])"
   ]
  },
  {
   "cell_type": "code",
   "execution_count": 51,
   "id": "addbdd3a",
   "metadata": {},
   "outputs": [
    {
     "name": "stdout",
     "output_type": "stream",
     "text": [
      "+--------------------+\n",
      "|            features|\n",
      "+--------------------+\n",
      "|(512,[0,1,2,3,4,5...|\n",
      "|(512,[0,1,2,3,4,5...|\n",
      "|(512,[0,1,2,3,4,5...|\n",
      "|(512,[0,1,2,3,4,5...|\n",
      "|(512,[0,1,2,3,4,5...|\n",
      "|(512,[0,1,2,3,4,5...|\n",
      "|(512,[0,1,2,3,4,5...|\n",
      "|(512,[0,1,2,3,4,5...|\n",
      "|(512,[0,1,2,3,4,5...|\n",
      "|(512,[0,1,2,3,4,5...|\n",
      "|(512,[0,1,2,3,4,5...|\n",
      "|(512,[0,1,2,3,4,5...|\n",
      "|(512,[0,1,2,3,4,5...|\n",
      "|(512,[0,1,2,3,4,5...|\n",
      "|(512,[0,1,2,3,4,5...|\n",
      "|(512,[0,1,2,3,4,5...|\n",
      "|(512,[0,1,2,3,4,5...|\n",
      "|(512,[0,1,2,3,4,5...|\n",
      "|(512,[0,1,2,3,4,5...|\n",
      "|(512,[0,1,2,3,4,5...|\n",
      "+--------------------+\n",
      "only showing top 20 rows\n",
      "\n"
     ]
    }
   ],
   "source": [
    "#Finally we assemble the vectors for input into our ML models\n",
    "from pyspark.ml.feature import VectorAssembler\n",
    "\n",
    "#We will exclude Value and Wage from our input columns, since these are what we would like to predict\n",
    "assembler = VectorAssembler(inputCols=[  'Height',\n",
    "                                         'Weight',\n",
    "                                         'Age',\n",
    "                                         'CA',\n",
    "                                         'PA',\n",
    "                                         'Wor',\n",
    "                                         'Vis',\n",
    "                                         'Thr',\n",
    "                                         'Tec',\n",
    "                                         'Tea',\n",
    "                                         'Tck',\n",
    "                                         'Str',\n",
    "                                         'Sta',\n",
    "                                         'TRO',\n",
    "                                         'Ref',\n",
    "                                         'Pun',\n",
    "                                         'Pos',\n",
    "                                         'Pen',\n",
    "                                         'Pas',\n",
    "                                         'Pac',\n",
    "                                         '1v1',\n",
    "                                         'OtB',\n",
    "                                         'Nat',\n",
    "                                         'Mar',\n",
    "                                         'L Th',\n",
    "                                         'Lon',\n",
    "                                         'Ldr',\n",
    "                                         'Kic',\n",
    "                                         'Jum',\n",
    "                                         'Hea',\n",
    "                                         'Han',\n",
    "                                         'Fre',\n",
    "                                         'Fla',\n",
    "                                         'Fir',\n",
    "                                         'Fin',\n",
    "                                         'Ecc',\n",
    "                                         'Dri',\n",
    "                                         'Det',\n",
    "                                         'Dec',\n",
    "                                         'Cro',\n",
    "                                         'Cor',\n",
    "                                         'Cnt',\n",
    "                                         'Cmp',\n",
    "                                         'Com',\n",
    "                                         'Cmd',\n",
    "                                         'Bra',\n",
    "                                         'Bal',\n",
    "                                         'Ant',\n",
    "                                         'Agi',\n",
    "                                         'Agg',\n",
    "                                         'Aer',\n",
    "                                         'Acc',\n",
    "                                         'Based_Index',\n",
    "                                         'Nation_Index',\n",
    "                                         'BestPos_Index',\n",
    "                                         'BestRole_Index',\n",
    "                                         'PreferredFoot_Index',\n",
    "                                         'Based_OHE',\n",
    "                                         'BestPos_OHE',\n",
    "                                         'PreferredFoot_OHE',\n",
    "                                         'BestRole_OHE',\n",
    "                                         'Nation_OHE'],\n",
    "                           outputCol='features')\n",
    "\n",
    "#Fill any null values\n",
    "fm_data_ml = fm_data_ml.fillna(0)\n",
    "\n",
    "#Perform the transformation\n",
    "final_data = assembler.transform(fm_data_ml)\n",
    "\n",
    "# view the transformed vector\n",
    "final_data.select('features').show()"
   ]
  },
  {
   "cell_type": "code",
   "execution_count": 52,
   "id": "c0b6f5f3",
   "metadata": {},
   "outputs": [],
   "source": [
    "final_ml = final_data.select(['features','Value'])"
   ]
  },
  {
   "cell_type": "markdown",
   "id": "55e88024",
   "metadata": {},
   "source": [
    "# Linear regression is bad but have it in anyway"
   ]
  },
  {
   "cell_type": "code",
   "execution_count": 53,
   "id": "8721189f",
   "metadata": {
    "scrolled": true
   },
   "outputs": [
    {
     "name": "stdout",
     "output_type": "stream",
     "text": [
      "Coefficients: [10955.340508804866,1605.0793744915725,-20159.370321053313,25882.86913312065,7631.504076242643,-0.0,3648.1626826556735,-16006.04968668395,7044.9003681136,-4921.843847287381,10135.523742677837,933.6792194541514,14485.4723955621,12981.744908994315,5223.3490740770685,4712.2775973054195,-10122.961751763274,14903.263383445967,8169.253617469579,54399.91206855639,-4676.5499874616735,6375.884202314384,36936.4331411457,-8456.012466898746,-54469.111368731334,2302.165667151223,13078.553785059441,2955.2215453522294,0.0,-6410.734463256241,5855.012871761621,-12090.252140147877,12337.211343793797,17791.826926299582,11787.018493270174,-12697.849820711983,10987.018347604631,15238.035734752555,86475.60949746006,1193.5326182593894,-18767.214478070477,11209.650739265631,18535.348630595927,-0.0,3066.90594335547,11543.854911544175,4102.402207688948,27007.747168847865,54444.75231170215,26798.276849660964,3845.8977275986845,59087.036985382125,-2123.539422434548,1123.6987077467866,-5109.8431791457215,942.5726514940563,86493.34414951177,-639668.6610595761,1861929.1506464467,-455794.24435002427,-838244.1671111557,461687.47055136855,895406.4219967216,-307478.21260923793,222258.5511677008,201317.14677033602,-71267.11274822641,-617001.3530222003,118561.87188251327,-195383.09415469284,-136505.94230509814,315953.1293674292,6770.598618567788,-235489.29105368408,-493495.8738015938,2675.4959119458663,386727.2861196957,73906.65227998239,-443371.7145153742,-402052.5620173565,-512049.80557975004,1458881.6135871017,-572415.2719815514,-924880.695033231,-53040.25934116495,-433815.04984839144,-579373.8474704397,-266836.3343353485,-249533.9307823291,414224.937391079,-242657.43530915657,-202952.48758499697,-263325.0007957493,-9290.28968747575,-966622.3776421645,-453977.95532632014,160800.09685373693,17120.79622932801,959600.3308206209,99206.59493544642,-466697.5418787439,-350013.04446365195,-153802.91160646823,757031.4323535222,-97477.13693164264,383260.980676611,136577.19351454286,681591.9077038555,1164242.7552996902,353259.0666395532,643768.2607875782,1699512.3766254797,123135.54840057847,57971.08793868327,-1165288.4093730256,-1253284.4123324195,-838141.3555715679,466134.5605895534,733881.6196974895,389454.8372213137,-535145.339042092,-1186905.7256547627,-1145945.9732574506,1032972.3073587738,1225885.3773246394,592041.0612439269,-1195877.4884740214,-1098683.2807206465,-786205.1665428026,-1140175.2031148002,539902.0737310253,-1473055.2567226887,-255627.17848920112,-818048.998792302,1079095.5075421713,-721866.1250065013,573965.4625883545,-518178.40116340254,-1059009.1731361246,-1025022.5829391333,-635075.9848389942,710073.4141984718,-3125393.3021738096,692486.6472170443,-817914.677161963,-748002.4491237394,976782.8327872979,-739704.7934245141,-997603.2484511328,-843591.0959454795,-373760.12351530424,-2470368.812342088,-772345.3655354214,-1045810.7808902981,-675934.7210258555,-790423.1194698634,-802744.5047325765,-1744155.299450123,-949520.4998478454,-1382002.8161536003,-846036.8536181017,-1562372.301322714,-1063409.1337057126,-611965.4751327011,-477415.25617496786,-1023730.6828035333,-631248.9427846136,-1172510.7631247062,-656246.1071277987,-1415886.118337594,-512398.1347572974,-958566.8513321644,1284310.046414616,1534439.0738517665,-637289.3671308999,-1250352.3653705614,-759815.7674390018,-788331.6652605762,-404879.93181858485,-928418.0091347963,-903941.9924774752,-984439.7996012211,-668581.7641709914,-290820.6494780644,-501155.00661017414,-534587.3624194532,-236692.69258885056,-99733.91858249946,-1384342.2800687398,-1489221.8161592672,-117862.56624234855,-574813.9295862727,-689009.0604340271,-343078.3858762762,-1015473.148293275,-735684.3655901394,-914071.4774666475,-779155.6326080841,-66328.87144292056,-362853.6846470093,-0.0,-187044.83106748108,-86066.80088940781,0.0,-62715.40339026128,-368087.58861544135,0.0,-258366.23257619745,-1123122.8873175038,-221374.25634910172,-63195.19155341389,709898.9176313491,-491838.47569756565,-1669100.690424206,189190.54443546225,258323.07541180647,-553502.8825826071,135594.39100346353,-572360.1968257378,-1198655.1842423882,-1700447.808608866,506467.9897964458,2391493.6702577346,-53472.32456839079,2136416.9435069854,-668544.100214784,-382020.272182778,1462793.5291453437,-549973.827934437,-1290433.7652519613,-517876.0285962494,2091437.0590396163,602847.4356274746,3649488.0619200226,488101.707295139,-1930025.7620056681,-3504704.043327701,1823049.253255737,812545.1939018972,-325225.755373997,222964.490293226,105891.00738746008,-116711.68509077423,-35597.30415445052,79708.68415211704,-30859.166733514838,-0.0,-81385.12583707394,-86788.89623890775,-86292.00957078936,-95410.45419765478,133194.66001029234,77468.56690268975,238141.93703988192,0.0,-46976.897430594596,-75668.0658703897,-210207.69620236318,-100186.55991256607,33044.79678874334,0.0,-0.0,-37420.247251942616,0.0,103209.04663209464,205160.69583871446,-0.0,-190055.94465912966,-135207.22201404482,-89169.23802465708,0.0,357136.22630809806,-225347.3243363482,-447932.1062542182,-262901.8886704578,-31496.185317035117,0.0,-280368.6983069393,-68680.68256875493,99643.34602112416,646802.1059000099,51521.494845304864,-45445.60713129661,2027123.9196521877,176249.55689267672,-68472.47267471002,-147972.74742638218,-671930.1384251738,364546.3743170758,-91892.57746490244,-459894.9942200188,2633785.203996758,-518527.30691287905,-314788.90077162505,-1050542.2019310957,-1032496.5516008935,-555647.0028061908,3588130.2729967837,-274175.8909728044,-1185143.8306854933,827334.311200415,-136975.83912477246,86445.4636765309,29470.450867526324,-849795.5512171566,-493799.7279553721,138161.85616125198,-924710.6187443166,-577043.3016571853,278413.3225818442,0.0,140713.25759496298,0.0,-113875.43270906845,359647.94385041425,360458.6292162337,73379.02361199695,303496.8179600716,-10793.515295663585,118170.98222322624,476405.6908506885,303720.05669349123,288127.17336693004,-185280.00089646943,-112527.55530759791,-182947.2695920151,-0.0,326.4200697034225,0.0,0.0,-18947.326812223702,143293.50195278245,72920.84438016872,1056165.2677521214,126262.19310945597,109535.05524012129,41498.20949408408,577460.519344211,-53013.18817858208,-173477.65431047577,182774.47958782848,124098.38571261776,287796.14242070465,-148052.01819893476,-289555.3879132408,-45734.604120543285,-86524.30814256174,0.0,345880.43485099287,871750.1847212319,1123850.403770325,-75241.23038592585,848356.6168904544,-250879.73082801682,1483515.7055221563,651517.672280218,-272487.55308968195,-0.0,1304847.942417665,-52215.985334022036,134944.90848704346,-96170.95026143864,-66015.99957563054,-392458.88686554786,-46344.94004686385,-222884.89461725677,-134304.74397200393,-168221.68660873405,292376.3674229121,-209036.78584579445,-580210.2474345244,-212149.01101295845,868497.2081731202,-225703.8100536579,-556350.8964404608,-253522.52256143527,987649.0509678815,-504661.78281806153,-103464.89234063329,1133066.2644769324,-547951.9356762198,500227.05958772014,-344403.9006777709,-314697.4636520167,-450319.309198952,459351.0789018232,-655996.4711472958,-382115.6278453954,-214065.65293432667,-66775.04324895289,-328482.20196918416,-784413.2642961651,-444721.7603442817,-351993.77406393364,-635188.3230494328,519665.98716359574,185836.56576256992,-522338.4221520424,1063701.3889628807,2042311.8581605437,-516724.7347398088,710999.4014921914,1252115.1879990648,-573639.0837560411,-258443.32703521402,-1494625.6806710334,-729885.3173107835,-497738.2667135658,-466488.7064212542,-759464.5152289701,-125462.78455071062,934393.7286495673,-634430.7902058493,-514890.1138618062,180476.3771112306,-422983.27181799867,-292621.349958261,-799955.4597727847,-818607.6985906115,-856743.6106702237,-891005.7625138954,-1058662.226998006,-831173.0659187415,-745856.0305753495,-706671.6490529815,-68356.30634422436,940743.191427825,-842831.3750175111,-856478.8265043168,-624789.192012873,-644441.259726053,-543678.0985095525,-663997.9543658549,-696629.4823087129,-48994.968045511996,-502466.92096862243,88838.57063450087,905419.7373364985,-812499.8125518147,555218.7568780784,162641.91764019523,-690202.5826770252,-200046.6891619766,-1151465.210381194,-805342.722699193,-1043390.121568314,-453200.4329604846,-799473.5538532768,-807937.6513585276,-849669.8272466274,-774185.7663353683,-192713.609576896,-672700.1927298749,1534439.0738517665,-1172871.8530242771,-847788.2258370111,-750240.9601452823,-880929.4246245177,-523448.48325910134,-265488.4850709687,-806406.3545959956,-944106.6278510413,-778517.2027201655,-234152.83845484542,-0.0,265044.52921943826,-1792245.5848649703,-704072.3948700669,-1076895.3793176766,-746206.2172711362,-959165.3948073668,-556101.167139006,-1797605.5826919707,-291817.65304625157,-867418.4325322891,-560622.7700824516,-1874401.0813877583,-253607.89702973564,-530966.7741798444,-32918.94733963045,-353788.01867497957,-1782772.8150259214,-214734.67936067333,-865568.9071634633,277759.80492673814,-523312.89937477984,22816.40988391669,-1049026.1140929505,-1614399.7625335217,-244987.0265935176,1325803.289581792,-0.0,-1630045.111686224,-614954.4454223969,540980.4884087893,381481.67343855096,583306.7238656686,-412553.4188362609,-195369.11608237898,795024.999047667,-1299909.2515430292,-194244.01697414747,-872836.40659853,-10550.742306803337,488101.70729514054,-40357.19416276629,-584234.8595518278,-358666.64832468267,-741718.5629052342,585940.8665455638,-2777163.1025627158,-568958.462417206]\n",
      "Intercept: -8626661.225682462\n",
      "numIterations: 11\n",
      "objectiveHistory: [0.49999999999999994, 0.46075950125515863, 0.4489184139506579, 0.4382555279820087, 0.42745982342555827, 0.415391112762217, 0.40698243924114363, 0.40276683717607725, 0.400545180733801, 0.39625619789461547, 0.3927774171086509]\n",
      "+--------------------+\n",
      "|           residuals|\n",
      "+--------------------+\n",
      "| 6.247911079049392E7|\n",
      "|1.8704243279061854E7|\n",
      "| 7.943321558350374E7|\n",
      "| 3.890649473241659E7|\n",
      "|  8.44792109553231E7|\n",
      "|6.0455455367643565E7|\n",
      "| 7.950789847814669E7|\n",
      "| 4.827098855886644E7|\n",
      "|  -556087.8682799935|\n",
      "| 6.887182469806434E7|\n",
      "| 6.913176006370632E7|\n",
      "| 6.740613277358471E7|\n",
      "| 6.923833430250049E7|\n",
      "|  -626647.6753524467|\n",
      "|6.5995915170474045E7|\n",
      "| 7.332054481963944E7|\n",
      "| 6.813285500422172E7|\n",
      "|5.4504002074283786E7|\n",
      "| -2270374.1850903314|\n",
      "|1.6875549887187302E7|\n",
      "+--------------------+\n",
      "only showing top 20 rows\n",
      "\n"
     ]
    },
    {
     "name": "stdout",
     "output_type": "stream",
     "text": [
      "RMSE: 2286509.532704\n",
      "r2: 0.214446\n"
     ]
    }
   ],
   "source": [
    "from pyspark.ml.regression import LinearRegression\n",
    "lr = LinearRegression(featuresCol = 'features', labelCol='Value', maxIter=10, regParam=0.3, elasticNetParam=0.8)\n",
    "lr_model = lr.fit(final_ml)\n",
    "\n",
    "# Print the coefficients and intercept for generalized linear regression lr_model\n",
    "print(\"Coefficients: \" + str(lr_model.coefficients))\n",
    "print(\"Intercept: \" + str(lr_model.intercept))\n",
    "\n",
    "# Summarize the model over the training set and print out some metrics\n",
    "trainingSummary = lr_model.summary\n",
    "print(\"numIterations: %d\" % trainingSummary.totalIterations)\n",
    "print(\"objectiveHistory: %s\" % str(trainingSummary.objectiveHistory))\n",
    "trainingSummary.residuals.show()\n",
    "print(\"RMSE: %f\" % trainingSummary.rootMeanSquaredError)\n",
    "print(\"r2: %f\" % trainingSummary.r2)"
   ]
  },
  {
   "cell_type": "code",
   "execution_count": 54,
   "id": "841cb5c3",
   "metadata": {},
   "outputs": [
    {
     "name": "stdout",
     "output_type": "stream",
     "text": [
      "Coefficients: [7176.94695139132,-153.56611011707875,-25332.124243816826,77646.12444118629,-2621.7293660953856,-14630.995283845734,-12257.966645387942,-30145.385096355745,-12909.937026674525,-21777.84853024615,5242.171311829227,-30746.571442179462,-14182.127229147485,18289.19315413066,-12522.923850594756,1894.3260726563283,-47938.473666131584,15379.432954040549,-16538.41520613714,-7751.669629286961,-23935.314267477825,-9877.369576604828,26252.432046310638,-43951.63011029955,-48436.99773285849,-7027.289599804997,5159.8971805416395,-12382.050895136059,-19075.171778794574,-32854.913408605214,-17221.860929951774,-19800.436794088517,9452.627313709383,10664.751321776537,6090.125456362984,-4757.240487449825,-7842.653879472656,12407.30832657307,16914.510137648354,1667.9278940492486,-33545.518634709275,-15083.360643615131,560.2154813199716,-24899.10280644532,-17342.437196803057,-24499.46563765626,-9830.689662380062,3065.8288087342653,-11917.703081803655,19888.6685053814,-16649.895555698196,-8882.75807404021,-6374.853343364631,1695.1701492253476,35007.92526626266,22782.050215997402,27700.43198436634,-1384775.1469812314,3370062.13234557,-451315.5924330956,-1290087.5520096975,548420.6329476385,1231220.825855322,-730514.4032471866,255532.30411774147,-207413.97752094187,-55294.98451391823,-720797.7520190261,1117990.355501954,-582772.8504054956,-276322.6628327294,392334.0614246079,-420043.88928402995,-439301.75004584383,-552158.4508632199,-158484.85771901556,1920314.2881947577,130156.71084003767,-1074904.7403223366,-499683.9358788777,-1262391.1296899326,4215911.260831878,-1127507.6871725412,-900384.2728311934,-402541.57244059065,-683266.2283316106,-628397.1317979213,-269034.93420732085,-156216.40507501128,-379898.9785662793,-421815.3341225868,-30805.861992154456,-360349.35273467115,-218914.74492817905,-1422908.7419762998,-1052861.0597522622,136912.0637085826,356688.5548940649,2929561.597662948,-724196.7342526179,-791575.9928173248,-421079.70713229844,-533900.5614721796,2746964.805676935,-796836.0879896344,1512433.8598304263,-195549.9422426631,783041.7370408796,2002797.2712022564,624002.6897823147,1830047.2863919034,3678191.058901006,96711.97054886619,559001.5472811476,-1484317.8286766324,-1033304.3981839125,-950661.2648148215,2538344.1397862197,868234.3326568627,356153.0506847504,-377386.3711830851,-1198097.0186401221,-1490367.8721394911,2617487.3824517652,3205210.103531559,2313297.562288897,-1485910.048787509,-1481432.1225558475,-607672.6203059283,-1114060.3231803188,363781.913812653,-1095358.6720279623,-47345.475431435705,-1078565.0783143523,3049752.0602168944,-644738.7257602857,2741629.604876678,-232767.0586404277,-799499.6467553289,-790561.846886712,-715772.1639334913,825425.2858076302,-2479591.538863951,2520013.391022509,-796046.9466262818,-1009865.9012053456,1984272.9533775575,-532114.3241605634,-812767.4797130267,-493647.7333077861,63585.823776696525,-1835459.382135552,-926704.6085635879,-692654.121734543,-985341.6376400559,-898426.665337051,-945302.0623661543,-1081758.4259431786,-941502.7687110242,-734644.0347692943,-86156.18855461269,-836993.5236550105,-767233.1097139367,-317147.9728201357,-143614.4337797269,-735640.4004286511,-439581.51251534995,-749139.6966084087,-331608.46226665826,-1035573.5897186531,-189954.56462293875,-671552.2229420628,2463449.655794645,1653978.177528547,43734.64236031854,-885656.9314763363,-783180.3540329355,-426765.7200915494,-165569.26208654515,-465631.6239413861,-207631.66002741063,-573441.664062361,-329862.92852411146,-82057.5299498267,80116.56036772435,-595623.0626078937,-26429.26929779324,866709.3982299424,-836372.7796556094,-861612.155640577,-61489.607920132,-254814.157595357,105108.827476624,53045.58513307273,-367830.6691842377,-723034.752744593,-444743.1699916114,33461.70993508621,-52497.7830966333,191052.65700622153,377764.2988194352,16844.577497309678,194620.72512955905,654426.1830567461,1693112.3292232426,-274713.0856560723,499226.1407708935,-115874.65304207732,-564905.1255459897,320608.59796675586,494826.8893763734,925456.6060627407,169293.16694696672,-688911.704529688,738598.8795050287,1333117.7136817519,-234909.3897316517,2104144.444169705,2011537.6279182404,-610740.4456785688,-910506.8730052937,1070530.9225004609,5075754.046005336,780361.633959441,2646038.5949084014,-541809.5745932513,60292.582841253796,3052372.3047920233,-125252.30484595503,39997.333354674425,264386.20999166294,2848515.5640108213,1461547.5222092164,4643586.599556746,612153.387334291,-819215.4269147101,-1357638.1321560042,1586136.9110166975,2945825.371548721,194110.8722771185,1066991.9698718314,463118.00631746714,-133211.27148344173,-326322.5230877372,207691.79062799763,16553.07049756633,-377651.81546043203,-30459.48876654759,-638330.7417493005,-478137.2359463553,-698352.9992494148,-281396.42194371304,-324839.1758541817,68786.57253103523,-84098.06513806543,122945.12350248462,-110042.42894316833,8230.747010913592,-32930.43069776662,-295708.9505753874,105050.98021486524,-108284.11907935527,397156.84357601235,-43966.69706812671,-14415.642821189014,-65129.90538699154,180905.57390039382,372592.5177096824,-335701.3623538747,-316799.60829242005,-431274.6550681138,518598.80376601295,-249939.98485220992,-261482.84490517346,-432427.2967051271,-116417.44896442506,-215687.22209172678,-287963.4958414098,130544.82584808508,187800.96643623765,551608.8492905815,191507.35321582123,-312878.31541748915,1032395.2476058586,-425908.3765274421,-580298.5506397394,-109933.74576620881,-1134892.275123491,-207952.8805567238,-123653.10010317533,-798816.6009000994,1437375.3523714633,-887536.5625874407,-592167.4379837838,-1778615.4947922362,-1260100.9987506373,-789001.2687016899,1700861.813495461,-1114532.6898973691,-1845628.6192508456,-104291.94398327985,453647.75936642603,471757.80563575885,82780.50741868431,-2307909.3860341213,-570745.5465162067,552518.2512343561,-1249075.6106445296,-637481.3372950752,778769.2199835355,373418.1516204488,-921269.5577033,607035.5385458628,110578.40007814098,522588.3538219162,760986.5338927115,126191.92323654243,169997.47010435237,60282.678652693074,219510.4869386213,636614.940282684,-1272271.7449046671,433086.21585309645,28288.643871976918,409901.39248804795,-118261.56645848088,-2622308.4304247783,-120446.60684067596,788147.9445490986,790609.8393604608,469065.6951272159,118651.04228507607,355093.93423934595,1947973.5705378968,513028.1015149808,323558.3951168923,295043.18215008377,643876.3486005991,151755.3480376118,413199.15968380333,-1802923.676384494,-184121.37002665474,1259083.9442872985,-2050019.8042895931,-425889.53275899705,479877.871307498,84363.43833802517,539671.1946171167,-674466.0248630752,1742990.9428470838,469672.128079311,-252612.16557401215,958313.2692392294,-2239746.737174864,2077784.9801168013,-347354.0010597616,-355587.18731679575,-24785.71074000345,1219875.1418076477,-108815.27264480844,43155.43047854036,-407586.0780281358,-142725.10136484297,-378266.8979405807,56106.418081448704,-192260.5352817673,272113.9115090516,-306090.3871757488,-1720517.122948132,-413447.93749929464,-286202.74279442744,-206069.64840892662,749201.7915220563,-185068.24845438605,-494363.967675648,123817.79508471205,-475002.82638249226,-252769.67922448253,-144836.64583098557,-766263.3767992598,-307888.1521548831,-934339.817151439,-349610.5671645044,-34485.82552767717,-398794.5530711274,362001.88608374103,-788373.1695773706,-880401.7252983925,-81360.7333746585,-93817.49132176834,-369027.74880044133,-502843.9687544931,-511180.12801917107,-201593.6179600012,-879739.1718357083,-977542.4292149162,-1731730.9707689798,-298123.13689024595,-797031.5671967512,1899674.698402172,-437789.6576003903,864826.9879914832,1072660.463984596,-522655.1287946375,-273934.88408933696,-1306916.8415425648,-942088.538883327,-175408.8626182409,-371766.88383518317,-849513.4498989225,-105046.92176545649,76573.68083441148,-754159.2839093796,-467977.5750307759,147977.69764204693,-388451.4153158676,-341960.46559525264,-446088.71781408606,-628050.6806801402,-839167.1227238916,-1400186.9221285088,-1273420.9713491695,-741819.7290333045,-735342.429786139,-800537.6146256413,-297202.4477234613,930192.755641471,-771278.4222754292,-1406210.3041919821,-755111.3029730768,-492477.9426687836,-190806.6044394989,-812765.8670838432,-771941.459156118,-73530.44946363106,-158936.92498536746,-551187.2236262375,844024.5569791673,-834862.8399435764,219176.81929340403,272775.5007813744,-700480.0744572652,3347.2434624174834,-2155951.313991842,-768774.5867675558,-1035013.699367026,116379.7698925581,-806654.1360534795,-667086.6337847932,-1217062.803440013,-756318.6084232163,-1165713.1015754677,-644278.3608862808,1653978.1375525245,-1232656.9555939762,-719559.6687259468,-691235.0018241811,-399407.92579468276,-976553.7782495336,-330501.27252278343,-545401.8084027402,-700140.0522855032,-1058252.6974282647,-1704621.4976572061,-214924.68894077247,-470435.50420713006,-3314383.855338683,-289666.30070125364,-974765.8427976096,-740510.363833035,-1689675.8442059697,-463654.93619552907,-2786497.622817733,-623719.3300043802,-787984.304994096,-1609306.3360909286,-3007960.2821830814,-393601.9723877224,-1109297.1766681734,-100789.27668279386,-458839.9138761022,-1282884.2303067548,-1037188.0798117968,-934177.2804518024,106766.6703082598,-592613.6703549781,-358845.33924317884,-1140116.8379717227,-1958834.9228427007,-453280.2457127226,1476819.8062836155,-2030682.36457368,-1841387.6809396434,-812322.8880728071,828545.3708665286,569686.6450624577,-673080.9933231256,-138394.53953032367,-140109.27213773993,1266355.8537975769,-887685.9962537718,-1155057.1413374941,-440002.6666391327,140878.39241141037,612153.3815476015,167204.91342152248,-776275.6205489101,272066.7896155016,-2829593.377083885,841591.0929910131,-5000594.056718435,-796274.1497445663]\n",
      "Intercept: -3204779.3634072025\n"
     ]
    },
    {
     "name": "stdout",
     "output_type": "stream",
     "text": [
      "Coefficient Standard Errors: [2080.225837031197, 1734.4659561531873, 1625.7906501736186, 1150.6211576298078, 591.2497537079116, 4122.98796974221, 3689.0888206609015, 5694.926487765469, 3979.502800957985, 4841.115855253518, 3663.618107886844, 3676.1713400132485, 3114.8037737352324, 5308.038304044322, 5894.197699175321, 4696.92837460541, 3656.8797309779834, 2919.5054071179406, 3738.0691665627633, 4911.741308509258, 5851.243039748829, 3577.5589133612684, 2227.0279853660513, 4000.851763476083, 3064.168976833439, 3514.532342554113, 1935.2382290237688, 5575.337542912432, 3653.5121238917336, 3308.146833465175, 5878.15137348723, 3772.3503355405364, 2666.679613361579, 3720.39251089622, 3781.547297414357, 4163.860123819519, 3657.115887056242, 1620.1321467802925, 3388.118274601255, 3757.0429313204804, 4118.092305655022, 3782.0953860170343, 3726.9575024461988, 5893.330477770877, 5827.362388310646, 3297.822035370246, 3967.466101080736, 3716.8880110964715, 3961.5044542617306, 2094.4623893500466, 5569.331959586425, 4567.391827623202, 115351.95396750236, 100216.74459000518, 1948548.1571145062, 523417.8868958444, 6857416.726057581, 21081565.7393504, 20966848.54226395, 20852167.12999095, 20737488.99444525, 20622813.543783102, 20508164.73082957, 20393621.709606793, 20278866.496830545, 20164316.608776826, 20049596.07930741, 19934955.45268156, 19820438.046146993, 19706003.11737387, 19591212.13512652, 19476773.92375851, 19362539.649349473, 19247501.767894827, 19132923.652727745, 19018477.56072358, 18903889.71622823, 18789459.99720853, 18674835.453876816, 18560792.207879018, 18445890.60287334, 18331905.89512316, 18216858.6236563, 18102299.999204423, 17988129.917854995, 17873612.443136606, 17759034.358504668, 17644603.26264116, 17530281.15529161, 17416677.796939686, 17301626.474846326, 17186952.09924844, 17072801.575399384, 16958751.11142482, 16844071.450255156, 16729978.348205715, 16615638.995254125, 16501570.672221357, 16387158.04516683, 16274243.636009973, 16159008.338950604, 16044273.431929797, 15930721.294229357, 15815924.9993283, 15702274.312944226, 15588278.439171655, 15473922.883656777, 15360744.235368358, 15253590.000042418, 15132318.202368574, 15025747.995522238, 14903259.709507955, 14789405.59424324, 14675349.058891118, 14563091.667520309, 14447338.731842734, 14336076.499288246, 14237523.966976086, 14106732.149477065, 13992649.910281373, 13878479.076251486, 13764923.281799426, 13650909.6493018, 13548960.837062526, 13441428.13216995, 13320503.361246327, 13196437.21262519, 13082847.349994224, 12969244.061641268, 12855853.754780123, 12743086.892154315, 12629223.356550867, 12516577.078312939, 12402416.435526889, 12494144.161346424, 12180431.2209782, 12087349.97113558, 11950919.13562313, 11837033.643134734, 11724982.172399214, 11635844.20445332, 11539532.671360293, 11385636.621142777, 11283147.435851283, 11157742.16185331, 11045531.240074234, 11162901.412067953, 10826079.272857996, 10716398.1747033, 10597296.66965401, 10482819.17665851, 10371774.012134677, 10257555.120008336, 10145271.841556337, 10033317.610077685, 9921347.068143753, 9809150.395602249, 9697346.464256005, 9585495.18484264, 9473762.399349554, 9380938.303134572, 9250334.98484426, 9138284.090595845, 9026793.278876463, 8915613.956047924, 8804800.897508964, 8693542.690056624, 8585478.571954036, 8472090.109484326, 8363773.647733533, 8254367.2578653265, 8142220.494912575, 8058089.3619622765, 1101321003.1244411, 7813791.101858164, 7703097.743882671, 7593260.355516828, 7485083.5283346595, 7376497.298051092, 7270502.26717837, 7161087.398092863, 7050223.553064267, 6943407.073100543, 6834196.335304081, 6728185.680839298, 6622144.052279222, 6521940.492162654, 6411109.2197350245, 6304722.025539748, 6194992.3663476445, 6091025.2451434545, 5994690.579673573, 5910832.915931993, 5840721.423464917, 5682601.531000374, 5589575.58036621, 5482050.777298301, 5395839.124967987, 5301775.827240062, 5271038.843387142, 5117896.829118602, 5002602.644600556, 4926377.695323812, 4824684.487500122, 4729774.901242666, 4641790.028588653, 4541219.049501382, 4448927.060402076, 4346850.46782515, 4248943.2102087075, 4207306.289707889, 4135547.2064927113, 4042478.497069154, 3941765.7003917997, 3865628.476621723, 3776543.898887126, 3801637.9537210204, 3741964.6002843734, 3645186.2422183687, 3579676.3777643167, 3549664.9881428303, 3446089.1676242687, 3603537.4398550326, 3295661.445581348, 3253418.084494933, 3174256.2989114076, 3117954.351043151, 3149567.5305022653, 3111308.3953798595, 3050144.090384961, 2966530.98706402, 2915698.7267369353, 2868389.9547743904, 3333415.268127908, 4672141497.088468, 3212344.1115443585, 3196993.5194310416, 3192353.043863882, 3562211.137490109, 3186520.0641275034, 3183793.2006502594, 25326640.88478373, 23377796.639731202, 21428870.425325066, 19487532.61334996, 17536672.04041114, 15587712.089573752, 13639752.452122692, 11695008.275939459, 9750956.210566651, 7807488.18576455, 5869668.50487174, 3940722.879234639, 1955276.643864172, 27429633.171880312, 20572230.111564796, 13714846.912870314, 6857531.874180071, 22483954.998350486, 21963662.05822251, 21442752.974607296, 20916514.31932109, 20391940.49327066, 19875230.065541178, 19352682.291830186, 18823724.364319317, 18300790.47325262, 17778204.62879993, 17262742.109391328, 16735464.373785041, 16215671.141759582, 15687991.371626284, 15168480.853257569, 14643238.671507213, 14124218.376174912, 13598809.029812008, 13087453.26977109, 12554836.572069274, 12033050.679287339, 11511488.114377301, 10989926.261191564, 10468748.225274837, 9946072.96684644, 9437862.585066881, 8923744.611663036, 8404890.00513012, 7866761.754580136, 7354940.2971688025, 6837180.788027526, 6311676.320533699, 5795233.57959679, 5276948.095651557, 4766944.481490527, 4253115.979615143, 3753702.9645531024, 3254112.134840811, 2762021.6478687073, 2312536.504092179, 1823460.6826866127, 1533559.1069209564, 1183160.6933402726, 21003707.77068084, 20904040.784638118, 20804416.85936866, 20704798.225811116, 20605168.909994796, 20505681.325334392, 20405965.240259215, 20306363.187125396, 20206855.271112863, 20107447.515764877, 20007670.48216581, 19908080.61348085, 19808474.344445627, 19708838.38239274, 19609849.967088923, 19509809.22360661, 19410412.950764105, 19310701.979233854, 19211175.7729367, 19111759.581654828, 19012190.67562573, 18912771.06006953, 18813148.184772912, 18713638.43989773, 18614655.664196026, 18515293.549393672, 18415131.760266375, 18315833.061220326, 18216309.80507141, 18117047.52851498, 18017468.989716385, 17918123.662345838, 17819466.35262603, 17719518.35296091, 17619920.76917942, 17520429.06762615, 17420901.386701908, 17321717.273486562, 17222473.339631636, 17123105.219736427, 17023941.580132566, 16925842.97303571, 16824911.398484405, 16725451.004174743, 16626791.173158767, 16527023.052788973, 16428468.473007014, 16329060.250899581, 16230022.248434285, 16137775.340425618, 16030635.997330023, 15933185.702193875, 15832379.624056064, 15733970.193116685, 15642159.332643047, 15534739.15092262, 15435587.969688457, 15338052.134277543, 15237354.21861611, 15138283.521901537, 15039419.356202176, 14940121.846085109, 14841118.12266551, 14742207.375103075, 14643041.376609033, 14545843.647870209, 14445211.87533236, 14363488.34437385, 14247318.337599607, 14151029.924555644, 14049559.900341647, 13951084.45028397, 13851867.951861745, 13753445.539164022, 13654218.936437694, 13566094.303038822, 13456561.61819679, 13357815.042413075, 13276458.201026356, 13160316.548900126, 13071672.924173865, 12963887.679669702, 12864363.208137028, 12765875.714530779, 12667504.753186842, 12568876.200479306, 12470482.788792288, 12371916.597003464, 12273707.316760296, 12176298.746511368, 12076735.150501164, 11978340.683283616, 11880056.266589444, 11782215.743494138, 11693708.985631635, 11609239.433280433, 11510255.146751117, 11606727.460016971, 11292080.415469294, 11197338.972472383, 11136832.747999607, 10997208.749265315, 10898885.852488486, 10801095.008331783, 10705301.369721875, 10604864.917288028, 10513940.0284745, 10409391.564743161, 10312726.00616768, 10214124.74157733, 10359831.165674366, 10019154.815674637, 9922127.970737334, 9824385.246448737, 9726953.940026399, 9636875.819393964, 9532514.981235793, 9437861.045933641, 9338428.889845425, 9241099.667700876, 9144325.786108255, 9047228.889182925, 8950549.21124371, 8853711.02079193, 8756340.849308351, 8663304.125743292, 8563942.121373085, 8488279.073409716, 8371162.291343887, 8277112.9237970365, 8179642.911502281, 8083464.656373349, 7987219.198546106, 7891521.028974577, 7797924.208768305, 7718972.802782757, 7604237.548592808, 7508665.729534178, 7414649.957264976, 7320569.454349594, 7225482.6393693695, 7139270.2421903955, 7037365.978600419, 6944851.058725017, 6847802.431632599, 6754976.001366423, 6660252.7159406645, 6573334.825209175, 6487559.241344876, 6381325.512094608, 6287706.187584505, 6195450.252922516, 1101321003.1239045, 6009805.0148549015, 5918745.445790056, 5830044.412816389, 5743426.675322719, 5651463.03712676, 5558411.50965603, 5466664.689336518, 5425248.95205116, 5296831.303905213, 5201939.100080341, 5113023.922928514, 5023806.826236324, 4940523.572796862, 4853961.012595046, 4776304.093610203, 4676528.488613061, 4597171.26149571, 4509351.189061801, 4430504.177137144, 4341743.380805154, 4262266.681990632, 4180302.61184118, 4106016.584706413, 4025267.985319572, 3944211.415031835, 3924644.6827144143, 3787966.12472101, 3721824.3112585614, 3645051.9204352107, 3581385.0763869043, 3497979.6899060053, 3442033.0178983933, 3386889.5130279367, 3302608.5101771117, 3249886.095507186, 3172791.703789856, 3168252.0764294975, 3180986.840176297, 3055413.6878318894, 2999528.0257531907, 2978404.6041286206, 2969041.2860834077, 3066316.199907568, 2901148.6370574124, 2832679.859283292, 2946465.5014313925, 2908261.8024865096, 2877351.4806079795, 2849638.436877554, 3243478.526835093, 4672141497.088459, 3210108.68477253, 3197731.234812363, 3188616.945565421, 3182472.6452335874, 3185642.15070462, 3180028.6326665035, 3183532.935461802, 52771187.97977062]\n",
      "T Values: [3.450080670872702, -0.08853797883566869, -15.58141833397283, 67.4819195930061, -4.434216419801789, -3.5486388491113003, -3.322762676988602, -5.293375631997659, -3.244108038714464, -4.498518354319717, 1.4308727485935713, -8.363748203876877, -4.553136653016335, 3.445565405998612, -2.1246189031540093, 0.40331167979870913, -13.109119575368448, 5.267821363353022, -4.424320275845664, -1.5781917536776053, -4.090637511530417, -2.760924366532547, 11.78810155005555, -10.985568251124807, -15.807547853615452, -1.9994949298711138, 2.666285268219691, -2.220861212407949, -5.221050630721772, -9.931516060969631, -2.9298090225490157, -5.248832964304025, 3.5447180329974226, 2.866566172935195, 1.6104850679845053, -1.1425072759375012, -2.144491485006104, 7.658207604379839, 4.992302147314798, 0.4439469882403035, -8.145887985231438, -3.988096307507353, 0.15031442696952477, -4.2249629306149625, -2.976035475602305, -7.428983545773933, -2.4778257487070117, 0.824837552162314, -3.008378059245335, 9.495834638287896, -2.9895678110978694, -1.9448206786897582, -0.05526437241939216, 0.016915039060193243, 0.01796615861837559, 0.04352554772460581, 0.004039484997186643, -0.06568654169725352, 0.16073288866242166, -0.02164358215717464, -0.06221040321493412, 0.026592910408820718, 0.06003564151230212, -0.03582072932651606, 0.012600916533361444, -0.010286189288986952, -0.0027579101491718595, -0.036157479946716795, 0.0564059357769485, -0.02957336639674495, -0.014104418906132421, 0.02014368821861324, -0.02169363610822314, -0.022823832170188803, -0.028859073547000732, -0.008333204233251245, 0.10158302428871265, 0.006927112905819247, -0.057558993918695595, -0.02692147674961648, -0.06843752664852562, 0.22997670209257604, -0.06189363986765351, -0.04973866706831531, -0.02237817795840069, -0.038227651545280204, -0.03538464530854329, -0.015247434595310357, -0.008911232152591946, -0.02181236760509125, -0.024380097139181444, -0.0017923981991839933, -0.021106632742332536, -0.012908659575804492, -0.0844753447038332, -0.06293260145582802, 0.008239951755553209, 0.02161543055380251, 0.17877179127633924, -0.044499563263892025, -0.04898666899683841, -0.026244859819847335, -0.0335138975575184, 0.17368347445967264, -0.05074653977562726, 0.09702379039046696, -0.01263738637661163, 0.05097680978490049, 0.1313000592776315, 0.04123642401893473, 0.12179408884917199, 0.2468044663111118, 0.006539273666719318, 0.03809119258682807, -0.10192326345010026, -0.07152212717948202, -0.06631251338970043, 0.17828550425438475, 0.06154751670740754, 0.025452866538385983, -0.027192199455692477, -0.08703986169136864, -0.10917718382347645, 0.19318731627681401, 0.23845755614765302, 0.17366442540144778, -0.1125993345662965, -0.11323468683264133, -0.046854898976203464, -0.08665782486566354, 0.028547393335018913, -0.08673206903572515, -0.003782621649290176, -0.08696410767379074, 0.24409451506506705, -0.052932339919941465, 0.2268180876224855, -0.019476916879689946, -0.06754222982368766, -0.06742541995054856, -0.0615144162603645, 0.07153021784463028, -0.21778242371264736, 0.22334312348125235, -0.07134480570342, -0.0914275537550839, 0.17775602239328264, -0.04915115719636603, -0.0758433446072966, -0.04658242084713697, 0.006065717886108293, -0.1769667734746358, -0.09034361480114911, -0.06827358917060682, -0.09820696163852692, -0.09055490743003947, -0.09636941266492999, -0.11155200341974919, -0.09822160989656585, -0.0775451192252545, -0.009184176014229219, -0.0904825095552042, -0.08395811534284559, -0.0351340684362731, -0.016108193388331464, -0.08354991884447688, -0.05056414032660451, -0.08725660315030129, -0.039141281310904566, -0.12381654900468035, -0.02301261364908825, -0.08247777413565037, 0.30571138456508196, 0.0015018129798997936, 0.0055971092380391625, -0.11497412611435066, -0.10314151199410955, -0.05701549200834364, -0.02244551246975843, -0.06404394178424408, -0.028994431778993086, -0.08133666397189969, -0.04750735842667696, -0.012006902629638255, 0.011907602460479408, -0.08994414164139046, -0.004052362840408159, 0.1351886808544753, -0.13265815309026371, -0.139082036698062, -0.010095116248148765, -0.04250664053610459, 0.01778240545309864, 0.009082026223672258, -0.06472927358668491, -0.1293541418930455, -0.08112715260379119, 0.006201391323964785, -0.009901924337672723, 0.03624573118938583, 0.07381240994740672, 0.0033671627938490147, 0.03950584733166031, 0.1356412392877182, 0.35796890223642713, -0.059182574817930635, 0.10993218678268948, -0.026045527712383994, -0.12995734031509656, 0.07545607980743231, 0.11761133022020342, 0.22378093148345538, 0.04187855719448015, -0.17477236266508997, 0.1910682529301187, 0.35299939557821525, -0.06179162576534249, 0.5623100881311915, 0.5518339789118893, -0.17061331283248743, -0.2565050155568813, 0.3106509641590279, 1.4085476093206706, 0.23678452621573412, 0.8133103481285829, -0.1706886664378871, 0.019337224363494016, 0.9691401359809096, -0.0402571165982609, 0.013113260281951575, 0.08912302320270936, 0.9769581259853616, 0.5095358529534986, 1.3930417382904257, 0.0001310220137202107, -0.2550210682506446, -0.4246608959024786, 0.49685510631897656, 0.8269654037476044, 0.060916256094645904, 0.33513230999234134, 0.018285804596996868, -0.005698196178892477, -0.015228171929309104, 0.010657675076100609, 0.0009439117330484243, -0.024227533411592474, -0.002233140877993524, -0.05458146986202311, -0.04903490751278531, -0.08944656496858065, -0.04794076900768043, -0.0824313674950093, 0.03517996941603812, -0.003065956610177316, 0.005976266201366779, -0.008023598778919077, 0.0012002491803069762, -0.0014646191339638657, -0.013463554018974864, 0.004899136801103271, -0.0051769677024689825, 0.01947616724887335, -0.0022121352519261796, -0.0007448912044236181, -0.00345999038906702, 0.009885123495883687, 0.02095782591601508, -0.01944658387564311, -0.018929836735732588, -0.026596164370740666, 0.03305705564728729, -0.016477588446079165, -0.017856899745407162, -0.030616016064616815, -0.008560856227130533, -0.016480457858819107, -0.02293645912381223, 0.010848855317529223, 0.016314221460358647, 0.05019222478666334, 0.018293242811348018, -0.031457472357222425, 0.1093886712484427, -0.0477275398458618, -0.0690429678776927, -0.013974459783557559, -0.1543033973450953, -0.03041500393274179, -0.01959116624863924, -0.1378402768289588, 0.2723876237395485, -0.18618563023623172, -0.13923143427595125, -0.4738295788420194, -0.38723342851621817, -0.28566078376341353, 0.7354962010267423, -0.611218382978931, -1.203493631853848, -0.08814689717999774, 0.021598460820316436, 0.022567780578692825, 0.003978987153461431, -0.11146736910273407, -0.02769914427827667, 0.026944642436812376, -0.061211297575877996, -0.03139318111375305, 0.0385398524181465, 0.018571136457159822, -0.046045818203797884, 0.03049191684178764, 0.005582378438405459, 0.026515431487265137, 0.038806341464614466, 0.0064681269709112215, 0.0087580553044164, 0.0031217238357010143, 0.011426187003496766, 0.03331011660976334, -0.06691873475347386, 0.022899141245751656, 0.0015036634801438142, 0.021903885436523805, -0.006353142845717455, -0.14162931975284032, -0.006540632367375128, 0.043030963533830485, 0.043401207369692156, 0.025890846419039243, 0.006585333508984925, 0.01981758474999034, 0.10931716651833553, 0.028952711427918377, 0.01836321509929019, 0.0168399518648352, 0.0369599904337956, 0.008760987472639084, 0.023991859446399415, -0.10529186460329688, -0.010815437139512375, 0.0743882562477464, -0.12184431500033098, -0.02546356045362802, 0.02886172480966636, 0.005104575583186389, 0.03284975684153576, -0.04130464426609721, 0.10739301007521605, 0.029103895560050833, -0.015758087552863523, 0.06014574154541343, -0.14146620977757152, 0.13205725920504113, -0.02220626920318356, -0.022889807409201147, -0.0016057509949524594, 0.07953259847653442, -0.007141349546882903, 0.0028507479342756792, -0.027101184452313947, -0.009553141723689654, -0.025487762769227443, 0.0038058356292153582, -0.013129822578312628, 0.01870733098034464, -0.021189747150642344, -0.11978407206506038, -0.029019351410726778, -0.02022487015576108, -0.014667338327367505, 0.053702046904805775, -0.013360526471775394, -0.03594473590402547, 0.009068097974779903, -0.03501397054833173, -0.01878412081751046, -0.010842839593983552, -0.05771594842516227, -0.023395193497880936, -0.07147821266423629, -0.026968034265891744, -0.0026807254249370097, -0.03123910666130008, 0.028577205466820133, -0.06272423699640757, -0.07059884851367935, -0.006576243279425635, -0.00764377778453755, -0.030307054424578036, -0.041637409654845824, -0.0426753706156103, -0.01696907939122709, -0.07466670030392879, -0.0835955837806506, -0.149168339642009, -0.02590065407667302, -0.06866979257869003, 0.16823070935624596, -0.039097651564952665, 0.07765466246647397, 0.09753933824855845, -0.0479549135451586, -0.02536176969816747, -0.12208127509973302, -0.08883550580144933, -0.016683456643578697, -0.03571456424930404, -0.08237525649288639, -0.010284476097874098, 0.007391402389657281, -0.07527174674749235, -0.04716504125031956, 0.015062285723733918, -0.0399355664384706, -0.03548457736760144, -0.04679653991545631, -0.06654587068229188, -0.08986170292910824, -0.15151734885214868, -0.13925804932318867, -0.0819941374446977, -0.0821561238792363, -0.09041831303796455, -0.03394139776399143, 0.10737159196309093, -0.09006114372848746, -0.1656649471619118, -0.09020387811067666, -0.05949875846841348, -0.02332700907654356, -0.10054672119374257, -0.09664708579634732, -0.009317652350371497, -0.020381953033943606, -0.07140680990967213, 0.11099397560710832, -0.11118657695198392, 0.0295599685159313, 0.03726151394128252, -0.09694578333640591, 0.00046884952507282, -0.30635770834539067, -0.11069705890981234, -0.15114537980621415, 0.017228746611241304, -0.12111464391175902, -0.10148374478453033, -0.18759948975629162, -0.11852061252630915, -0.18539560641005234, -0.1039921772565863, 0.0015018129436022779, -0.20510764534741516, -0.12157300483969324, -0.11856427719566169, -0.06954174717869804, -0.1727966319224163, -0.05945966252204234, -0.09976865957530219, -0.129052151979274, -0.19978976801621812, -0.3276896297442004, -0.04203475129012757, -0.09364124069228301, -0.6708568042440063, -0.059676272625517224, -0.20408370650052687, -0.15834616759763426, -0.36754685611956645, -0.10282076439737119, -0.6289346565108719, -0.14365642445885748, -0.18487447261889278, -0.3849736455758936, -0.7325738267562686, -0.09778279951129111, -0.2812468856107755, -0.02568112143417902, -0.12113094435602866, -0.34469231296759906, -0.28454686036075966, -0.26084245634771314, 0.030522381423869486, -0.1721696646352367, -0.10595129775059152, -0.3452170714325994, -0.6027395623344146, -0.1428647979542072, 0.46613077831481664, -0.6383812529262571, -0.6026639496553037, -0.2708169022254194, 0.27818429024653374, 0.1918756225225673, -0.219508018560974, -0.04770336058020626, -0.04946173909436753, 0.42978811500843345, -0.30522905313916954, -0.4014306730067724, -0.15440648923912562, 0.04343435334806303, 0.0001310220124816591, 0.05208699450416605, -0.2427582443758631, 0.0853243880529078, -0.8891178943271635, 0.2641825582339387, -1.5724996955531685, -0.2501227931003199, -0.060729717978600876]\n",
      "P Values: [0.0005606061245364558, 0.9294492436059181, 0.0, 0.0, 9.248731963618084e-06, 0.0003873713531497014, 0.0008915658342094623, 1.2028329909874458e-07, 0.0011785035062625848, 6.8490935893894545e-06, 0.15246921835380145, 0.0, 5.290226742671322e-06, 0.0005700553334302416, 0.03362040536000821, 0.6867196486109226, 0.0, 1.3828296174800414e-07, 9.682898750806856e-06, 0.11452412488520602, 4.304614680616936e-05, 0.005764652634151934, 0.0, 0.0, 0.0, 0.045557016192496746, 0.007670456807459036, 0.026362169677313307, 1.7819800102181205e-07, 0.0, 0.0033923241302120655, 1.5331792702077962e-07, 0.00039317841346631077, 0.004150215093270626, 0.1072945579030471, 0.2532454379710285, 0.031995472076653764, 1.9095836023552692e-14, 5.974480263848392e-07, 0.6570816890377842, 4.440892098500626e-16, 6.664393473743147e-05, 0.8805167966364538, 2.3915121379669557e-05, 0.002920576157387167, 1.1013412404281553e-13, 0.013219894865749593, 0.4094654167351588, 0.0026269907684934868, 0.0, 0.002794274195325519, 0.05179883083398118, 0.9559279348786724, 0.9865044221423098, 0.9856658794519051, 0.9652826700180934, 0.9967769720613793, 0.9476274936939975, 0.8723040476568014, 0.9827323030853825, 0.9503953785941512, 0.9787844707988811, 0.952127345264018, 0.9714253620823003, 0.989946210011786, 0.9917929694151266, 0.9977995132139306, 0.9711568483283721, 0.9550185196309466, 0.9764073542507155, 0.9887466978220243, 0.9839287813771564, 0.9826923752946193, 0.981790834598931, 0.9769770332118468, 0.993351155365054, 0.9190878192690417, 0.9944730184456954, 0.9541000067121597, 0.9785224072465577, 0.9454374606744629, 0.8181102544147714, 0.950647632632645, 0.9603307231646752, 0.9821463236455426, 0.9695062360818523, 0.9717730855388602, 0.9878348032714661, 0.9928899734230046, 0.9825976637974216, 0.9805494632147962, 0.9985698786212003, 0.9831606279006377, 0.9897006868188205, 0.9326786417596089, 0.9498202758767533, 0.9934255570484405, 0.98275475953181, 0.8581171889459358, 0.9645062720089972, 0.9609299989864857, 0.9790620776111463, 0.9732648376831126, 0.8621145102044772, 0.9595275730404258, 0.9227076589778156, 0.9899171132992346, 0.9593440820221142, 0.8955381587048166, 0.9671074828692805, 0.9030622936646309, 0.8050599639459237, 0.9947824623963317, 0.9696150350446109, 0.9188177500266117, 0.9429823304871543, 0.947129128201837, 0.8584990547376705, 0.9509232727801338, 0.9796937844737097, 0.978306481228499, 0.9306399684118947, 0.9130621341450986, 0.8468125894099088, 0.8115266267823067, 0.8621294816405602, 0.9103483956067753, 0.9098446804077833, 0.9626289497817042, 0.9309436415661947, 0.9772256149887895, 0.9308846256988972, 0.9969819177171666, 0.9307001828783137, 0.8071580258676767, 0.9577859025362876, 0.8205655736870379, 0.9844606824770825, 0.9461501535530841, 0.9462431422146733, 0.9509496331439604, 0.9429758915680035, 0.8275989994635666, 0.823268836421815, 0.943123451725153, 0.9271530169785307, 0.8589148777504596, 0.9607989145517175, 0.9395438542144325, 0.9628461182113024, 0.9951602965578838, 0.8595347786968319, 0.9280143087038626, 0.9455679584109702, 0.9217681139503613, 0.9278464101563171, 0.9232273405070563, 0.9111788113754629, 0.9217564825978366, 0.9381900249668513, 0.9926722056614499, 0.9279039390135406, 0.9330898693099012, 0.9719728923377513, 0.9871481030704203, 0.9334144220426701, 0.9596729198949641, 0.9304676895077, 0.9687778117435064, 0.901460729893836, 0.9816402485035916, 0.9342669253788025, 0.7598249196129532, 0.9988017296823051, 0.9955341858608382, 0.908465817274065, 0.9178508262904248, 0.954532946609491, 0.9820926120128421, 0.9489353417580519, 0.9768690782490654, 0.9351743487174775, 0.9621089426983191, 0.9904201276482705, 0.9904993516700502, 0.9283317491472032, 0.9967666968257967, 0.8924629166109512, 0.8944639553290288, 0.8893855496186418, 0.9919454156956324, 0.9660948869222739, 0.9858124697101291, 0.9927537061809193, 0.9483896594469434, 0.8970776428049763, 0.9353409636917247, 0.9950520478776999, 0.9920995524264282, 0.9710864801758081, 0.9411597718042906, 0.9973134023255514, 0.9684871554666927, 0.8921051235151309, 0.72036719762769, 0.9528067842797481, 0.9124633344501727, 0.9792210670512476, 0.8966003894705761, 0.9398519632711839, 0.9063758182574935, 0.8229281382808331, 0.9665955778911977, 0.8612587918829675, 0.848472433905108, 0.7240894960233546, 0.9507288723825718, 0.5739057866079156, 0.5810631032293283, 0.8645281087339534, 0.7975613353047011, 0.7560665030418496, 0.158971496802208, 0.8128243491760792, 0.4160417131969516, 0.8644688544664372, 0.9845721200957529, 0.3324771722590558, 0.9678882071265551, 0.9895374531419585, 0.9289842848550829, 0.3285917966801828, 0.6103775844556119, 0.16360967649641345, 0.9998954521509644, 0.798707251574573, 0.6710846335739808, 0.6192921160511404, 0.40825826826882405, 0.9514260015613465, 0.737525849994968, 0.9854108813608526, 0.995453531348379, 0.9878501706116514, 0.9914965838040293, 0.9992468711094116, 0.9806711553636998, 0.9982182163435596, 0.9564719899194789, 0.9608915565697631, 0.9287271632828817, 0.9617635252127652, 0.9343038268304134, 0.9719362912359308, 0.9975537306881344, 0.9952316674988522, 0.993598175898212, 0.9990423410694524, 0.9988314037798123, 0.9892579843457685, 0.9960910789183248, 0.9958694049998846, 0.9844612806711166, 0.9982349761951355, 0.9994056651388901, 0.9972393380816627, 0.9921129569962472, 0.9832793322535993, 0.9844848802573583, 0.9848971080777487, 0.9787818756036397, 0.973629142012463, 0.9868534080931832, 0.9857530413333913, 0.9755758185324703, 0.9931695219753678, 0.9868511189997349, 0.9817009948042219, 0.9913440529776105, 0.986983738335852, 0.959969288593622, 0.9854049476915616, 0.974904758354334, 0.9128943965919412, 0.96193346271814, 0.9449555294467018, 0.9888503800014874, 0.877370770822751, 0.975736128069066, 0.9843695425430572, 0.8903668765167247, 0.7853244431787434, 0.8522994980825866, 0.889267496408676, 0.635622277469718, 0.6985840716539045, 0.7751384225976756, 0.46203874929969446, 0.5410561397494043, 0.22878766069839873, 0.929760065798914, 0.9827682962297448, 0.9819950811940075, 0.9968252418816848, 0.9112459211194601, 0.9779021508151504, 0.9785039304680845, 0.9511910314102692, 0.9749560298839683, 0.9692573196835583, 0.985183258449359, 0.9632738053751817, 0.9756747890914808, 0.995545938318692, 0.9788462682069814, 0.9690448515445322, 0.9948392274912805, 0.9930121861474639, 0.9975092348526919, 0.9908834385417222, 0.9734273402030547, 0.946646506578821, 0.9817307624250962, 0.9988002515997585, 0.9825246608384841, 0.9949309692967996, 0.8873730375340014, 0.9947813782752366, 0.9656769208831877, 0.965381785450272, 0.9793444430301934, 0.9947457128203192, 0.9841889219922182, 0.9129511088618234, 0.9769023524357858, 0.9853491269727641, 0.9865643243535076, 0.970516966718562, 0.9930098466239317, 0.9808591409490774, 0.9161443891856327, 0.9913707155024727, 0.9407015735187318, 0.9030225152935203, 0.9796852545690347, 0.9769749187552177, 0.99592716438335, 0.9737944524419169, 0.9670530972990536, 0.9144773740053009, 0.9767817759612951, 0.9874274107209662, 0.952039656645705, 0.8875018829653234, 0.8949392170853727, 0.9822834524637214, 0.9817382079149399, 0.9987187995390234, 0.9366091327099881, 0.9943020872194273, 0.997725439089145, 0.9783790738093563, 0.9923778270837171, 0.9796659503859861, 0.9969633967259912, 0.9895242394185217, 0.9850746102671339, 0.9830943272169417, 0.9046543945654049, 0.9768492037672059, 0.9838640210142471, 0.9882976006280644, 0.9571726388546535, 0.9893401809499927, 0.9713264829036037, 0.9927648186051132, 0.9720686574173192, 0.9850133516596737, 0.9913488527660435, 0.9539749831822706, 0.9813350768510003, 0.9430172797229703, 0.9784852732699483, 0.9978610978927329, 0.9750789029930751, 0.9772018382640297, 0.9499861984727047, 0.9437171411906946, 0.99475296527502, 0.99390121924653, 0.9758222194688304, 0.9667878177975444, 0.9659603821516574, 0.9864613105553042, 0.940480023979692, 0.9333781137263795, 0.8814210452649203, 0.9793366201749785, 0.945252574575496, 0.8664020580852658, 0.9688125965447045, 0.9381028850324662, 0.9222982540221043, 0.9617522524950055, 0.9797664456204314, 0.9028348498690353, 0.9292127836773445, 0.9866891720344553, 0.9715100150665505, 0.9343484450903421, 0.9917943363521111, 0.9941025800553986, 0.9399986224516907, 0.9623817658844662, 0.9879825135386902, 0.9681445603422829, 0.971693401369957, 0.9626754623392804, 0.946943346799443, 0.9283972603176871, 0.8795678738907444, 0.8892464656290819, 0.9346515082682609, 0.9345226966504685, 0.9279549512184602, 0.9729239364087501, 0.9144943648733483, 0.9282387725271206, 0.8684209040330062, 0.9281253489023975, 0.9525549505851105, 0.9813894651293595, 0.9199104557848976, 0.9230068192269509, 0.9925657114075284, 0.9837387129412147, 0.9430741055733993, 0.9116213042986885, 0.9114685762942722, 0.9764180396171309, 0.9702765517265584, 0.922769607453799, 0.9996259069118238, 0.7593328214420265, 0.9118567581370121, 0.8798612825806749, 0.9862541571948709, 0.9036004274237861, 0.9191666254582478, 0.8511909344054864, 0.9056553564969776, 0.852919058698939, 0.917175725396856, 0.9988017296823051, 0.8374883612731789, 0.9032373916690624, 0.9056207611236085, 0.9445585161471395, 0.8628115676864456, 0.9525860894172546, 0.9205281517847217, 0.8973165926442714, 0.8416453328112583, 0.7431469004871316, 0.9664710629284499, 0.9253943000419238, 0.5023130107118647, 0.9524135662796687, 0.838288422949607, 0.8741842893972702, 0.7132117773281377, 0.9181053919382607, 0.5293929990921533, 0.8857720167751146, 0.8533277972697797, 0.7002576041835236, 0.46381978947317437, 0.9221049246023507, 0.778521516880744, 0.9795117233528843, 0.9035875165769465, 0.730326284603555, 0.7759918050501362, 0.7942144368614792, 0.9756504931752712, 0.8633044279228521, 0.9156211654149631, 0.7299317734496784, 0.5466830649213388, 0.886397193526965, 0.6411227156534403, 0.5232267149796512, 0.5467333749695442, 0.7865323119190872, 0.7808713592970005, 0.8478399484502808, 0.8262546969931521, 0.9619527329419559, 0.9605514075395445, 0.6673505288331185, 0.7601922206228018, 0.6881037647565587, 0.8772894896284713, 0.9653553637264309, 0.9998954521509644, 0.9584594599588927, 0.8081930872858203, 0.9320036416634774, 0.373941454363514, 0.7916396910301802, 0.11583727098267871, 0.8024928057066334, 0.9515745620583482]\n",
      "Dispersion: 5076853455573.747\n"
     ]
    },
    {
     "name": "stdout",
     "output_type": "stream",
     "text": [
      "Null Deviance: 8.2548139366403e+17\n",
      "Residual Degree Of Freedom Null: 124032\n",
      "Deviance: 6.270929388324694e+17\n",
      "Residual Degree Of Freedom: 123520\n",
      "AIC: 3981178.1664834376\n",
      "Deviance Residuals: \n",
      "+--------------------+\n",
      "|   devianceResiduals|\n",
      "+--------------------+\n",
      "|   6.1645949168386E7|\n",
      "|1.8517328015243582E7|\n",
      "| 7.832395554016127E7|\n",
      "|3.9107746732837245E7|\n",
      "| 8.284070009479019E7|\n",
      "| 5.993915342674188E7|\n",
      "|  7.66175157262437E7|\n",
      "| 4.710816004203102E7|\n",
      "| -1468074.7191943284|\n",
      "| 6.844705442608067E7|\n",
      "| 6.830982286653216E7|\n",
      "| 6.689867165495475E7|\n",
      "| 6.855151948214096E7|\n",
      "| -1091030.5405739062|\n",
      "| 6.467074035530068E7|\n",
      "| 7.194385456814158E7|\n",
      "| 6.688648482572856E7|\n",
      "| 5.304623409169915E7|\n",
      "| -2724021.3623700268|\n",
      "|1.6728101094896624E7|\n",
      "+--------------------+\n",
      "only showing top 20 rows\n",
      "\n"
     ]
    }
   ],
   "source": [
    "from pyspark.ml.regression import GeneralizedLinearRegression\n",
    "\n",
    "glr = GeneralizedLinearRegression(featuresCol = 'features', labelCol='Value', family=\"gaussian\", link=\"identity\", maxIter=10, regParam=0.3)\n",
    "\n",
    "glr_model = glr.fit(final_ml)\n",
    "\n",
    "# Print the coefficients and intercept for generalized linear regression glr_model\n",
    "print(\"Coefficients: \" + str(glr_model.coefficients))\n",
    "print(\"Intercept: \" + str(glr_model.intercept))\n",
    "\n",
    "# Summarize the glr_model over the training set and print out some metrics\n",
    "summary = glr_model.summary\n",
    "print(\"Coefficient Standard Errors: \" + str(summary.coefficientStandardErrors))\n",
    "print(\"T Values: \" + str(summary.tValues))\n",
    "print(\"P Values: \" + str(summary.pValues))\n",
    "print(\"Dispersion: \" + str(summary.dispersion))\n",
    "print(\"Null Deviance: \" + str(summary.nullDeviance))\n",
    "print(\"Residual Degree Of Freedom Null: \" + str(summary.residualDegreeOfFreedomNull))\n",
    "print(\"Deviance: \" + str(summary.deviance))\n",
    "print(\"Residual Degree Of Freedom: \" + str(summary.residualDegreeOfFreedom))\n",
    "print(\"AIC: \" + str(summary.aic))\n",
    "print(\"Deviance Residuals: \")\n",
    "summary.residuals().show()"
   ]
  },
  {
   "cell_type": "markdown",
   "id": "a8e69180",
   "metadata": {},
   "source": [
    "# Clustering"
   ]
  },
  {
   "cell_type": "code",
   "execution_count": 55,
   "id": "39d57692",
   "metadata": {},
   "outputs": [
    {
     "name": "stdout",
     "output_type": "stream",
     "text": [
      "+--------------------+\n",
      "|            features|\n",
      "+--------------------+\n",
      "|(496,[0,1,2,3,4,5...|\n",
      "|(496,[0,1,2,3,4,5...|\n",
      "|(496,[0,1,2,3,4,5...|\n",
      "|(496,[0,1,2,3,4,5...|\n",
      "|(496,[0,1,2,3,4,5...|\n",
      "|(496,[0,1,2,3,4,5...|\n",
      "|(496,[0,1,2,3,4,5...|\n",
      "|(496,[0,1,2,3,4,5...|\n",
      "|(496,[0,1,2,3,4,5...|\n",
      "|(496,[0,1,2,3,4,5...|\n",
      "|(496,[0,1,2,3,4,5...|\n",
      "|(496,[0,1,2,3,4,5...|\n",
      "|(496,[0,1,2,3,4,5...|\n",
      "|(496,[0,1,2,3,4,5...|\n",
      "|(496,[0,1,2,3,4,5...|\n",
      "|(496,[0,1,2,3,4,5...|\n",
      "|(496,[0,1,2,3,4,5...|\n",
      "|(496,[0,1,2,3,4,5...|\n",
      "|(496,[0,1,2,3,4,5...|\n",
      "|(496,[0,1,2,3,4,5...|\n",
      "+--------------------+\n",
      "only showing top 20 rows\n",
      "\n"
     ]
    }
   ],
   "source": [
    "#As before we assemble a Vector to use for prediction, however, we will attempt to predict some \n",
    "#categorical variables from player attributes\n",
    "#Can we predict from the data what nationality a player is, what their best position is,\n",
    "#or what division they belong to?\n",
    "\n",
    "#We will start with Best Pos and exclude this from our input columns\n",
    "assembler = VectorAssembler(inputCols=[  'Height',\n",
    "                                         'Weight',\n",
    "                                         'Age',\n",
    "                                         'Wage',\n",
    "                                         'Value',\n",
    "                                         'CA',\n",
    "                                         'PA',\n",
    "                                         'Wor',\n",
    "                                         'Vis',\n",
    "                                         'Thr',\n",
    "                                         'Tec',\n",
    "                                         'Tea',\n",
    "                                         'Tck',\n",
    "                                         'Str',\n",
    "                                         'Sta',\n",
    "                                         'TRO',\n",
    "                                         'Ref',\n",
    "                                         'Pun',\n",
    "                                         'Pos',\n",
    "                                         'Pen',\n",
    "                                         'Pas',\n",
    "                                         'Pac',\n",
    "                                         '1v1',\n",
    "                                         'OtB',\n",
    "                                         'Nat',\n",
    "                                         'Mar',\n",
    "                                         'L Th',\n",
    "                                         'Lon',\n",
    "                                         'Ldr',\n",
    "                                         'Kic',\n",
    "                                         'Jum',\n",
    "                                         'Hea',\n",
    "                                         'Han',\n",
    "                                         'Fre',\n",
    "                                         'Fla',\n",
    "                                         'Fir',\n",
    "                                         'Fin',\n",
    "                                         'Ecc',\n",
    "                                         'Dri',\n",
    "                                         'Det',\n",
    "                                         'Dec',\n",
    "                                         'Cro',\n",
    "                                         'Cor',\n",
    "                                         'Cnt',\n",
    "                                         'Cmp',\n",
    "                                         'Com',\n",
    "                                         'Cmd',\n",
    "                                         'Bra',\n",
    "                                         'Bal',\n",
    "                                         'Ant',\n",
    "                                         'Agi',\n",
    "                                         'Agg',\n",
    "                                         'Aer',\n",
    "                                         'Acc',\n",
    "                                         'Based_OHE',\n",
    "                                         'PreferredFoot_OHE',\n",
    "                                         'BestRole_OHE',\n",
    "                                         'Nation_OHE'],\n",
    "                           outputCol='features')\n",
    "\n",
    "#Perform the transformation\n",
    "final_data_cluster_bestpos = assembler.transform(fm_data_ml)\n",
    "\n",
    "# view the transformed vector\n",
    "final_data_cluster_bestpos.select('features').show()"
   ]
  },
  {
   "cell_type": "code",
   "execution_count": 56,
   "id": "eb065ecc",
   "metadata": {},
   "outputs": [],
   "source": [
    "from pyspark.ml.evaluation import MulticlassClassificationEvaluator\n",
    "from pyspark.ml.classification import DecisionTreeClassifier"
   ]
  },
  {
   "cell_type": "code",
   "execution_count": 57,
   "id": "26d464c2",
   "metadata": {},
   "outputs": [],
   "source": [
    "#Vectorise the features\n",
    "vectorindexor = VectorIndexer(inputCol=\"features\", \n",
    "                              outputCol=\"indexedFeatures\", \n",
    "                              maxCategories=10).fit(final_data_cluster_bestpos)\n",
    "\n",
    "dt_data = vectorindexor.transform(final_data_cluster_bestpos)"
   ]
  },
  {
   "cell_type": "code",
   "execution_count": 58,
   "id": "c3d87e89",
   "metadata": {},
   "outputs": [],
   "source": [
    "#Vectorise the label output\n",
    "labelIndexer = StringIndexer(inputCol=\"Best Pos\", outputCol=\"indexedLabel\").fit(dt_data)\n",
    "\n",
    "dt_data = labelIndexer.transform(dt_data)"
   ]
  },
  {
   "cell_type": "code",
   "execution_count": 59,
   "id": "a56da32e",
   "metadata": {},
   "outputs": [],
   "source": [
    "#split the data into test & train\n",
    "test, train = dt_data.randomSplit([0.8,0.2])"
   ]
  },
  {
   "cell_type": "code",
   "execution_count": 60,
   "id": "c80e0c1b",
   "metadata": {},
   "outputs": [],
   "source": [
    "#Initialise the Decision Tree Classification model\n",
    "dt = DecisionTreeClassifier(labelCol=\"indexedLabel\", \n",
    "                            featuresCol=\"indexedFeatures\")\n",
    "\n",
    "#fit it to the training data\n",
    "dt_model = dt.fit(train)"
   ]
  },
  {
   "cell_type": "code",
   "execution_count": 61,
   "id": "b1418915",
   "metadata": {},
   "outputs": [],
   "source": [
    "#perform predictions on the data\n",
    "predictions = dt_model.transform(test)"
   ]
  },
  {
   "cell_type": "code",
   "execution_count": 62,
   "id": "2a0319b9",
   "metadata": {},
   "outputs": [
    {
     "name": "stdout",
     "output_type": "stream",
     "text": [
      "+----------+------------+--------------------+\n",
      "|prediction|indexedLabel|            features|\n",
      "+----------+------------+--------------------+\n",
      "|       1.0|         5.0|(496,[0,1,2,3,4,5...|\n",
      "|       1.0|         1.0|(496,[0,1,2,3,4,5...|\n",
      "|       3.0|         3.0|(496,[0,1,2,3,4,5...|\n",
      "|       1.0|         8.0|(496,[0,1,2,3,4,5...|\n",
      "|       1.0|         2.0|(496,[0,1,2,3,4,5...|\n",
      "+----------+------------+--------------------+\n",
      "only showing top 5 rows\n",
      "\n"
     ]
    }
   ],
   "source": [
    "#select statement to display some of the predictions next to the actuals\n",
    "predictions.select(\"prediction\", \"indexedLabel\", \"features\").show(5)"
   ]
  },
  {
   "cell_type": "code",
   "execution_count": 63,
   "id": "ef189563",
   "metadata": {},
   "outputs": [
    {
     "name": "stdout",
     "output_type": "stream",
     "text": [
      "Test Error = 0.49321 \n"
     ]
    }
   ],
   "source": [
    "#Display the error of the model using the Classification Evaluator\n",
    "evaluator = MulticlassClassificationEvaluator(\n",
    "    labelCol=\"indexedLabel\", predictionCol=\"prediction\", metricName=\"accuracy\")\n",
    "accuracy = evaluator.evaluate(predictions)\n",
    "print(\"Test Error = %g \" % (1.0 - accuracy))\n"
   ]
  },
  {
   "cell_type": "markdown",
   "id": "63602550",
   "metadata": {},
   "source": [
    "# Pipelines"
   ]
  },
  {
   "cell_type": "markdown",
   "id": "c7d730a5",
   "metadata": {},
   "source": [
    "Decision Tree"
   ]
  },
  {
   "cell_type": "code",
   "execution_count": 64,
   "id": "e374d230",
   "metadata": {},
   "outputs": [],
   "source": [
    "#Resetting fm_data_ml for pipeline usage\n",
    "fm_data_ml = fm_data_filtered\n"
   ]
  },
  {
   "cell_type": "code",
   "execution_count": 65,
   "id": "7adcbf78",
   "metadata": {
    "scrolled": false
   },
   "outputs": [
    {
     "name": "stdout",
     "output_type": "stream",
     "text": [
      "+----------+------------+--------------------+\n",
      "|prediction|indexedLabel|            features|\n",
      "+----------+------------+--------------------+\n",
      "|       5.0|         5.0|(507,[0,1,2,3,4,5...|\n",
      "|       1.0|         1.0|(507,[0,1,2,3,4,5...|\n",
      "|       1.0|         1.0|(507,[0,1,2,3,4,5...|\n",
      "|       3.0|         3.0|(507,[0,1,2,3,4,5...|\n",
      "|       5.0|         8.0|(507,[0,1,2,3,4,5...|\n",
      "+----------+------------+--------------------+\n",
      "only showing top 5 rows\n",
      "\n"
     ]
    }
   ],
   "source": [
    "#it is also possible to perform the above steps via a pipeline, as below\n",
    "\n",
    "#Stages 1-5: Perform indexation on categorical variables that we will use\n",
    "stage_1 = StringIndexer(inputCol='Based',outputCol='Based_Index')\n",
    "stage_2 = StringIndexer(inputCol='Nation',outputCol='Nation_Index')\n",
    "stage_3 = StringIndexer(inputCol='Best Pos',outputCol='BestPos_Index')\n",
    "stage_4 = StringIndexer(inputCol='Best Role',outputCol='BestRole_Index')\n",
    "stage_5 = StringIndexer(inputCol='Preferred Foot',outputCol='PreferredFoot_Index')\n",
    "\n",
    "#Stage 6: Perform OHE on these indexed variables\n",
    "stage_6 = OneHotEncoderEstimator(inputCols=[stage_1.getOutputCol(), \n",
    "                                            stage_2.getOutputCol(), \n",
    "                                            stage_3.getOutputCol(), \n",
    "                                            stage_4.getOutputCol(), \n",
    "                                            stage_5.getOutputCol()], \n",
    "                                 outputCols= ['Based_encoded', \n",
    "                                              'Nation_encoded',\n",
    "                                              'BestPos_encoded',\n",
    "                                              'BestRole_encoded',\n",
    "                                              'PreferredFoot_encoded'])\n",
    "\n",
    "#Stage 7: Assemble all predictors into a vector for use by the model \n",
    "stage_7 = VectorAssembler(inputCols=[  'Height',\n",
    "                                         'Weight',\n",
    "                                         'Age',\n",
    "                                         'CA',\n",
    "                                         'PA',\n",
    "                                         'Wor',\n",
    "                                         'Vis',\n",
    "                                         'Thr',\n",
    "                                         'Tec',\n",
    "                                         'Tea',\n",
    "                                         'Tck',\n",
    "                                         'Str',\n",
    "                                         'Sta',\n",
    "                                         'TRO',\n",
    "                                         'Ref',\n",
    "                                         'Pun',\n",
    "                                         'Pos',\n",
    "                                         'Pen',\n",
    "                                         'Pas',\n",
    "                                         'Pac',\n",
    "                                         '1v1',\n",
    "                                         'OtB',\n",
    "                                         'Nat',\n",
    "                                         'Mar',\n",
    "                                         'L Th',\n",
    "                                         'Lon',\n",
    "                                         'Ldr',\n",
    "                                         'Kic',\n",
    "                                         'Jum',\n",
    "                                         'Hea',\n",
    "                                         'Han',\n",
    "                                         'Fre',\n",
    "                                         'Fla',\n",
    "                                         'Fir',\n",
    "                                         'Fin',\n",
    "                                         'Ecc',\n",
    "                                         'Dri',\n",
    "                                         'Det',\n",
    "                                         'Dec',\n",
    "                                         'Cro',\n",
    "                                         'Cor',\n",
    "                                         'Cnt',\n",
    "                                         'Cmp',\n",
    "                                         'Com',\n",
    "                                         'Cmd',\n",
    "                                         'Bra',\n",
    "                                         'Bal',\n",
    "                                         'Ant',\n",
    "                                         'Agi',\n",
    "                                         'Agg',\n",
    "                                         'Aer',\n",
    "                                         'Acc',\n",
    "                                         'Based_encoded',\n",
    "                                         'Nation_encoded',\n",
    "                                         'BestPos_encoded',\n",
    "                                         'BestRole_encoded',\n",
    "                                         'PreferredFoot_encoded'],\n",
    "                           outputCol='features')\n",
    "\n",
    "#Stage 8: Index this vector for use in the model with 10 max categories\n",
    "stage_8 = VectorIndexer(inputCol=\"features\", \n",
    "                        outputCol=\"indexedFeatures\", \n",
    "                        maxCategories=10)\n",
    "\n",
    "#Stage 9: Index the response variable (label)\n",
    "stage_9 = StringIndexer(inputCol=\"Best Pos\", \n",
    "                        outputCol=\"indexedLabel\")\n",
    "\n",
    "\n",
    "#Stage 10: Initialise the model of our choosing                     \n",
    "stage_10 = DecisionTreeClassifier(featuresCol='indexedFeatures',\n",
    "                                  labelCol='indexedLabel')\n",
    "\n",
    "#Setup the Pipeline\n",
    "dt_pipeline = Pipeline(stages= [stage_1,\n",
    "                                stage_2, \n",
    "                                stage_3, \n",
    "                                stage_4, \n",
    "                                stage_5,\n",
    "                                stage_6,\n",
    "                                stage_7,\n",
    "                                stage_8,\n",
    "                                stage_9,\n",
    "                                stage_10])\n",
    "\n",
    "#Fit the pipeline\n",
    "model = dt_pipeline.fit(fm_data_ml)\n",
    "#Transform the data\n",
    "fm_data_ml = model.transform(fm_data_ml)\n",
    "\n",
    "#View Predicted values vs the Actuals\n",
    "fm_data_ml.select(\"prediction\", \"indexedLabel\", \"features\").show(5)"
   ]
  },
  {
   "cell_type": "code",
   "execution_count": 66,
   "id": "3f878d3e",
   "metadata": {},
   "outputs": [
    {
     "name": "stdout",
     "output_type": "stream",
     "text": [
      "Test Error = 0.301065 \n"
     ]
    }
   ],
   "source": [
    "#Display the error of the model using the Classification Evaluator\n",
    "evaluator = MulticlassClassificationEvaluator(\n",
    "    labelCol=\"indexedLabel\", predictionCol=\"prediction\", metricName=\"accuracy\")\n",
    "accuracy = evaluator.evaluate(fm_data_ml)\n",
    "print(\"Test Error = %g \" % (1.0 - accuracy))\n"
   ]
  },
  {
   "cell_type": "markdown",
   "id": "3b6b48dd",
   "metadata": {},
   "source": [
    "Logistic Regression"
   ]
  },
  {
   "cell_type": "code",
   "execution_count": 67,
   "id": "09251501",
   "metadata": {},
   "outputs": [
    {
     "name": "stdout",
     "output_type": "stream",
     "text": [
      "+----------+------------+--------------------+\n",
      "|prediction|indexedLabel|            features|\n",
      "+----------+------------+--------------------+\n",
      "|       1.0|         1.0|(459,[0,1,2,3,4,5...|\n",
      "|       8.0|         8.0|(459,[0,1,2,3,4,5...|\n",
      "|       1.0|         1.0|(459,[0,1,2,3,4,5...|\n",
      "|       3.0|         3.0|(459,[0,1,2,3,4,5...|\n",
      "|       3.0|         3.0|(459,[0,1,2,3,4,5...|\n",
      "+----------+------------+--------------------+\n",
      "only showing top 5 rows\n",
      "\n"
     ]
    }
   ],
   "source": [
    "from pyspark.ml.classification import LogisticRegression\n",
    "#Using Pipelines we can more easily test several models at once, as below,\n",
    "#all other stages remain the same but we change the classification model used and continue\n",
    "\n",
    "#Resetting fm_data_ml for pipeline usage\n",
    "fm_data_ml = fm_data_filtered\n",
    "test, train = fm_data_ml.randomSplit([0.8,0.2])\n",
    "\n",
    "\n",
    "\n",
    "#Stage 10: Initialise the model of our choosing                         \n",
    "stage_10 = LogisticRegression(featuresCol='indexedFeatures',labelCol='indexedLabel')\n",
    "\n",
    "#Setup the pipeline\n",
    "lr_pipeline = Pipeline(stages= [stage_1,\n",
    "                                stage_2, \n",
    "                                stage_3, \n",
    "                                stage_4, \n",
    "                                stage_5,\n",
    "                                stage_6,\n",
    "                                stage_7,\n",
    "                                stage_8,\n",
    "                                stage_9,\n",
    "                                stage_10])\n",
    "\n",
    "#Fit the pipeline\n",
    "model = lr_pipeline.fit(train)\n",
    "#Transform the data\n",
    "fm_data_ml = model.transform(train)\n",
    "\n",
    "#View the predictions\n",
    "fm_data_ml.select(\"prediction\", \"indexedLabel\", \"features\").show(5)"
   ]
  },
  {
   "cell_type": "code",
   "execution_count": 68,
   "id": "c3237929",
   "metadata": {},
   "outputs": [
    {
     "name": "stdout",
     "output_type": "stream",
     "text": [
      "Test Error = 0\n"
     ]
    }
   ],
   "source": [
    "#Display the error of the model using the Classification Evaluator\n",
    "evaluator = MulticlassClassificationEvaluator(\n",
    "    labelCol=\"indexedLabel\", predictionCol=\"prediction\", metricName=\"accuracy\")\n",
    "accuracy = evaluator.evaluate(fm_data_ml)\n",
    "print(\"Test Error = %g\" % (1.0 - accuracy))"
   ]
  },
  {
   "cell_type": "markdown",
   "id": "9e971871",
   "metadata": {},
   "source": [
    "Random Forest"
   ]
  },
  {
   "cell_type": "code",
   "execution_count": 69,
   "id": "28f814c9",
   "metadata": {},
   "outputs": [
    {
     "name": "stdout",
     "output_type": "stream",
     "text": [
      "+----------+------------+--------------------+\n",
      "|prediction|indexedLabel|            features|\n",
      "+----------+------------+--------------------+\n",
      "|       6.0|         6.0|(461,[0,1,2,3,4,5...|\n",
      "|       1.0|         1.0|(461,[0,1,2,3,4,5...|\n",
      "|       8.0|         8.0|(461,[0,1,2,3,4,5...|\n",
      "|       2.0|         2.0|(461,[0,1,2,3,4,5...|\n",
      "|       6.0|         6.0|(461,[0,1,2,3,4,5...|\n",
      "+----------+------------+--------------------+\n",
      "only showing top 5 rows\n",
      "\n"
     ]
    }
   ],
   "source": [
    "from pyspark.ml.classification import RandomForestClassifier\n",
    "\n",
    "#Using Pipelines we can more easily test several models at once, as below,\n",
    "#all other stages remain the same but we change the classification model used and continue\n",
    "\n",
    "#Resetting fm_data_ml for pipeline usage\n",
    "fm_data_ml = fm_data_filtered\n",
    "test, train = fm_data_ml.randomSplit([0.8,0.2])\n",
    "\n",
    "#Stage 10: Initialise the model of our choosing                             \n",
    "stage_10 = RandomForestClassifier(featuresCol='indexedFeatures',labelCol='indexedLabel')\n",
    "\n",
    "#Setup the pipeline\n",
    "rf_pipeline = Pipeline(stages= [stage_1,\n",
    "                                stage_2, \n",
    "                                stage_3, \n",
    "                                stage_4, \n",
    "                                stage_5,\n",
    "                                stage_6,\n",
    "                                stage_7,\n",
    "                                stage_8,\n",
    "                                stage_9,\n",
    "                                stage_10])\n",
    "\n",
    "#Fit the pipeline\n",
    "model = rf_pipeline.fit(train)\n",
    "#Transform the data\n",
    "fm_data_ml = model.transform(train)\n",
    "\n",
    "#View the predictions\n",
    "fm_data_ml.select(\"prediction\", \"indexedLabel\", \"features\").show(5)"
   ]
  },
  {
   "cell_type": "code",
   "execution_count": 70,
   "id": "0bf1748b",
   "metadata": {},
   "outputs": [
    {
     "name": "stdout",
     "output_type": "stream",
     "text": [
      "Test Error = 0.123588\n"
     ]
    }
   ],
   "source": [
    "#Display the error of the model using the Classification Evaluator\n",
    "evaluator = MulticlassClassificationEvaluator(\n",
    "    labelCol=\"indexedLabel\", predictionCol=\"prediction\", metricName=\"accuracy\")\n",
    "accuracy = evaluator.evaluate(fm_data_ml)\n",
    "print(\"Test Error = %g\" % (1.0 - accuracy))"
   ]
  },
  {
   "cell_type": "markdown",
   "id": "d734204e",
   "metadata": {},
   "source": [
    "## Predicting another categorical variable"
   ]
  },
  {
   "cell_type": "code",
   "execution_count": 71,
   "id": "39dac054",
   "metadata": {},
   "outputs": [
    {
     "name": "stdout",
     "output_type": "stream",
     "text": [
      "+----------+------------+--------------------+\n",
      "|prediction|indexedLabel|            features|\n",
      "+----------+------------+--------------------+\n",
      "|       0.0|         0.0|(507,[0,1,2,3,4,5...|\n",
      "|       5.0|        13.0|(507,[0,1,2,3,4,5...|\n",
      "|       2.0|         2.0|(507,[0,1,2,3,4,5...|\n",
      "|       5.0|         7.0|(507,[0,1,2,3,4,5...|\n",
      "|       1.0|         1.0|(507,[0,1,2,3,4,5...|\n",
      "+----------+------------+--------------------+\n",
      "only showing top 5 rows\n",
      "\n"
     ]
    }
   ],
   "source": [
    "#Resetting fm_data_ml for pipeline usage\n",
    "fm_data_ml = fm_data_filtered\n",
    "test, train = fm_data_ml.randomSplit([0.8,0.2])\n",
    "\n",
    "#Predicting Nation using Pipeline with various models\n",
    "#Stages 1-5: Perform indexation on categorical variables that we will use\n",
    "stage_1 = StringIndexer(inputCol='Based',outputCol='Based_Index')\n",
    "stage_2 = StringIndexer(inputCol='Nation',outputCol='Nation_Index')\n",
    "stage_3 = StringIndexer(inputCol='Best Pos',outputCol='BestPos_Index')\n",
    "stage_4 = StringIndexer(inputCol='Best Role',outputCol='BestRole_Index')\n",
    "stage_5 = StringIndexer(inputCol='Preferred Foot',outputCol='PreferredFoot_Index')\n",
    "\n",
    "#Stage 6: Perform OHE on these indexed variables\n",
    "stage_6 = OneHotEncoderEstimator(inputCols=[stage_1.getOutputCol(), \n",
    "                                            stage_2.getOutputCol(), \n",
    "                                            stage_3.getOutputCol(), \n",
    "                                            stage_4.getOutputCol(), \n",
    "                                            stage_5.getOutputCol()], \n",
    "                                 outputCols= ['Based_encoded', \n",
    "                                              'Nation_encoded',\n",
    "                                              'BestPos_encoded',\n",
    "                                              'BestRole_encoded',\n",
    "                                              'PreferredFoot_encoded'])\n",
    "\n",
    "#Stage 7: Assemble all predictors into a vector for use by the model \n",
    "stage_7 = VectorAssembler(inputCols=[  'Height',\n",
    "                                         'Weight',\n",
    "                                         'Age',\n",
    "                                         'CA',\n",
    "                                         'PA',\n",
    "                                         'Wor',\n",
    "                                         'Vis',\n",
    "                                         'Thr',\n",
    "                                         'Tec',\n",
    "                                         'Tea',\n",
    "                                         'Tck',\n",
    "                                         'Str',\n",
    "                                         'Sta',\n",
    "                                         'TRO',\n",
    "                                         'Ref',\n",
    "                                         'Pun',\n",
    "                                         'Pos',\n",
    "                                         'Pen',\n",
    "                                         'Pas',\n",
    "                                         'Pac',\n",
    "                                         '1v1',\n",
    "                                         'OtB',\n",
    "                                         'Nat',\n",
    "                                         'Mar',\n",
    "                                         'L Th',\n",
    "                                         'Lon',\n",
    "                                         'Ldr',\n",
    "                                         'Kic',\n",
    "                                         'Jum',\n",
    "                                         'Hea',\n",
    "                                         'Han',\n",
    "                                         'Fre',\n",
    "                                         'Fla',\n",
    "                                         'Fir',\n",
    "                                         'Fin',\n",
    "                                         'Ecc',\n",
    "                                         'Dri',\n",
    "                                         'Det',\n",
    "                                         'Dec',\n",
    "                                         'Cro',\n",
    "                                         'Cor',\n",
    "                                         'Cnt',\n",
    "                                         'Cmp',\n",
    "                                         'Com',\n",
    "                                         'Cmd',\n",
    "                                         'Bra',\n",
    "                                         'Bal',\n",
    "                                         'Ant',\n",
    "                                         'Agi',\n",
    "                                         'Agg',\n",
    "                                         'Aer',\n",
    "                                         'Acc',\n",
    "                                         'Based_encoded',\n",
    "                                         'Nation_encoded',\n",
    "                                         'BestPos_encoded',\n",
    "                                         'BestRole_encoded',\n",
    "                                         'PreferredFoot_encoded'],\n",
    "                           outputCol='features')\n",
    "\n",
    "#Stage 8: Index this vector for use in the model with 10 max categories\n",
    "stage_8 = VectorIndexer(inputCol=\"features\", \n",
    "                        outputCol=\"indexedFeatures\", \n",
    "                        maxCategories=10)\n",
    "\n",
    "#Stage 9: Index the response variable (label)\n",
    "stage_9 = StringIndexer(inputCol=\"Nation\", \n",
    "                        outputCol=\"indexedLabel\")\n",
    "\n",
    "\n",
    "#Stage 10: Initialise the model of our choosing                        \n",
    "stage_10 = DecisionTreeClassifier(featuresCol='indexedFeatures',labelCol='indexedLabel')\n",
    "\n",
    "#Setup the Pipeline\n",
    "dt_pipeline = Pipeline(stages= [stage_1,\n",
    "                                stage_2, \n",
    "                                stage_3, \n",
    "                                stage_4, \n",
    "                                stage_5,\n",
    "                                stage_6,\n",
    "                                stage_7,\n",
    "                                stage_8,\n",
    "                                stage_9,\n",
    "                                stage_10])\n",
    "\n",
    "#Fit the pipeline\n",
    "model = dt_pipeline.fit(fm_data_ml)\n",
    "#Transform the data\n",
    "fm_data_ml = model.transform(fm_data_ml)\n",
    "\n",
    "#View Predicted values vs the Actuals\n",
    "fm_data_ml.select(\"prediction\", \"indexedLabel\", \"features\").show(5)"
   ]
  },
  {
   "cell_type": "code",
   "execution_count": 72,
   "id": "8635a580",
   "metadata": {},
   "outputs": [
    {
     "name": "stdout",
     "output_type": "stream",
     "text": [
      "Test Error = 0.742109 \n"
     ]
    }
   ],
   "source": [
    "#Display the error of the model using the Classification Evaluator\n",
    "evaluator = MulticlassClassificationEvaluator(\n",
    "    labelCol=\"indexedLabel\", predictionCol=\"prediction\", metricName=\"accuracy\")\n",
    "accuracy = evaluator.evaluate(fm_data_ml)\n",
    "print(\"Test Error = %g \" % (1.0 - accuracy))\n"
   ]
  },
  {
   "cell_type": "markdown",
   "id": "41a00b1c",
   "metadata": {},
   "source": [
    "Logistic Regression"
   ]
  },
  {
   "cell_type": "code",
   "execution_count": 73,
   "id": "c375cdf4",
   "metadata": {},
   "outputs": [
    {
     "name": "stdout",
     "output_type": "stream",
     "text": [
      "+----------+------------+--------------------+\n",
      "|prediction|indexedLabel|            features|\n",
      "+----------+------------+--------------------+\n",
      "|      28.0|        28.0|(450,[0,1,2,3,4,5...|\n",
      "|      33.0|        33.0|(450,[0,1,2,3,4,5...|\n",
      "|      33.0|        33.0|(450,[0,1,2,3,4,5...|\n",
      "|      58.0|        58.0|(450,[0,1,2,3,4,5...|\n",
      "|       6.0|         6.0|(450,[0,1,2,3,4,5...|\n",
      "+----------+------------+--------------------+\n",
      "only showing top 5 rows\n",
      "\n"
     ]
    }
   ],
   "source": [
    "from pyspark.ml.classification import LogisticRegression\n",
    "\n",
    "#Resetting fm_data_ml for pipeline usage\n",
    "fm_data_ml = fm_data_filtered\n",
    "test, train = fm_data_ml.randomSplit([0.8,0.2])\n",
    "\n",
    "\n",
    "\n",
    "#Stage 10: Initialise the model of our choosing                          \n",
    "stage_10 = LogisticRegression(featuresCol='indexedFeatures',labelCol='indexedLabel')\n",
    "\n",
    "#Setup the pipeline\n",
    "lr_pipeline = Pipeline(stages= [stage_1,\n",
    "                                stage_2, \n",
    "                                stage_3, \n",
    "                                stage_4, \n",
    "                                stage_5,\n",
    "                                stage_6,\n",
    "                                stage_7,\n",
    "                                stage_8,\n",
    "                                stage_9,\n",
    "                                stage_10])\n",
    "\n",
    "#Fit the pipeline for the training data\n",
    "model = lr_pipeline.fit(train)\n",
    "#Transform the data\n",
    "fm_data_ml = model.transform(train)\n",
    "\n",
    "#View the predictions\n",
    "fm_data_ml.select(\"prediction\", \"indexedLabel\", \"features\").show(5)"
   ]
  },
  {
   "cell_type": "code",
   "execution_count": 74,
   "id": "fbbe415d",
   "metadata": {},
   "outputs": [
    {
     "name": "stdout",
     "output_type": "stream",
     "text": [
      "Test Error = 0\n"
     ]
    }
   ],
   "source": [
    "#Display the error of the model using the Classification Evaluator\n",
    "evaluator = MulticlassClassificationEvaluator(\n",
    "    labelCol=\"indexedLabel\", predictionCol=\"prediction\", metricName=\"accuracy\")\n",
    "accuracy = evaluator.evaluate(fm_data_ml)\n",
    "print(\"Test Error = %g\" % (1.0 - accuracy))"
   ]
  },
  {
   "cell_type": "markdown",
   "id": "89a5c229",
   "metadata": {},
   "source": [
    "Random Forest"
   ]
  },
  {
   "cell_type": "code",
   "execution_count": 75,
   "id": "3387b800",
   "metadata": {},
   "outputs": [
    {
     "name": "stdout",
     "output_type": "stream",
     "text": [
      "+----------+------------+--------------------+\n",
      "|prediction|indexedLabel|            features|\n",
      "+----------+------------+--------------------+\n",
      "|      11.0|        11.0|(468,[0,1,2,3,4,5...|\n",
      "|       7.0|         7.0|(468,[0,1,2,3,4,5...|\n",
      "|       3.0|         2.0|(468,[0,1,2,3,4,5...|\n",
      "|       4.0|        91.0|(468,[0,1,2,3,4,5...|\n",
      "|       5.0|         5.0|(468,[0,1,2,3,4,5...|\n",
      "+----------+------------+--------------------+\n",
      "only showing top 5 rows\n",
      "\n"
     ]
    }
   ],
   "source": [
    "from pyspark.ml.classification import RandomForestClassifier\n",
    "\n",
    "#Resetting fm_data_ml for pipeline usage\n",
    "fm_data_ml = fm_data_filtered\n",
    "test, train = fm_data_ml.randomSplit([0.8,0.2])\n",
    "\n",
    "#Stage 10: Initialise the model of our choosing                                \n",
    "stage_10 = RandomForestClassifier(featuresCol='indexedFeatures',labelCol='indexedLabel')\n",
    "\n",
    "#Setup the pipeline\n",
    "rf_pipeline = Pipeline(stages= [stage_1,\n",
    "                                stage_2, \n",
    "                                stage_3, \n",
    "                                stage_4, \n",
    "                                stage_5,\n",
    "                                stage_6,\n",
    "                                stage_7,\n",
    "                                stage_8,\n",
    "                                stage_9,\n",
    "                                stage_10])\n",
    "\n",
    "#Fit the pipeline for the training data\n",
    "model = rf_pipeline.fit(train)\n",
    "#Transform the data\n",
    "fm_data_ml = model.transform(train)\n",
    "\n",
    "#View the predictions\n",
    "fm_data_ml.select(\"prediction\", \"indexedLabel\", \"features\").show(5)"
   ]
  },
  {
   "cell_type": "code",
   "execution_count": 76,
   "id": "45e0578c",
   "metadata": {},
   "outputs": [
    {
     "name": "stdout",
     "output_type": "stream",
     "text": [
      "Test Error = 0.316412 \n"
     ]
    }
   ],
   "source": [
    "#Display the error of the model using the Classification Evaluator\n",
    "evaluator = MulticlassClassificationEvaluator(\n",
    "    labelCol=\"indexedLabel\", predictionCol=\"prediction\", metricName=\"accuracy\")\n",
    "accuracy = evaluator.evaluate(fm_data_ml)\n",
    "print(\"Test Error = %g \" % (1.0 - accuracy))\n"
   ]
  },
  {
   "cell_type": "markdown",
   "id": "ba7dc154",
   "metadata": {},
   "source": [
    "# Finally also for Based"
   ]
  },
  {
   "cell_type": "code",
   "execution_count": 77,
   "id": "2195247e",
   "metadata": {},
   "outputs": [
    {
     "name": "stdout",
     "output_type": "stream",
     "text": [
      "+----------+------------+--------------------+\n",
      "|prediction|indexedLabel|            features|\n",
      "+----------+------------+--------------------+\n",
      "|       4.0|         4.0|(507,[0,1,2,3,4,5...|\n",
      "|       5.0|         5.0|(507,[0,1,2,3,4,5...|\n",
      "|       2.0|         2.0|(507,[0,1,2,3,4,5...|\n",
      "|       5.0|         7.0|(507,[0,1,2,3,4,5...|\n",
      "|       2.0|         2.0|(507,[0,1,2,3,4,5...|\n",
      "|       5.0|         7.0|(507,[0,1,2,3,4,5...|\n",
      "|       1.0|         1.0|(507,[0,1,2,3,4,5...|\n",
      "|       4.0|         4.0|(507,[0,1,2,3,4,5...|\n",
      "|       5.0|         5.0|(507,[0,1,2,3,4,5...|\n",
      "|       1.0|         1.0|(507,[0,1,2,3,4,5...|\n",
      "|       4.0|         4.0|(507,[0,1,2,3,4,5...|\n",
      "|       4.0|         4.0|(507,[0,1,2,3,4,5...|\n",
      "|       1.0|         1.0|(507,[0,1,2,3,4,5...|\n",
      "|       5.0|         5.0|(507,[0,1,2,3,4,5...|\n",
      "|       1.0|         1.0|(507,[0,1,2,3,4,5...|\n",
      "|       5.0|         7.0|(507,[0,1,2,3,4,5...|\n",
      "|       1.0|         1.0|(507,[0,1,2,3,4,5...|\n",
      "|       1.0|         1.0|(507,[0,1,2,3,4,5...|\n",
      "|       5.0|        64.0|(507,[0,1,2,3,4,5...|\n",
      "|       5.0|         5.0|(507,[0,1,2,3,4,5...|\n",
      "+----------+------------+--------------------+\n",
      "only showing top 20 rows\n",
      "\n"
     ]
    }
   ],
   "source": [
    "#Resetting fm_data_ml for pipeline usage\n",
    "fm_data_ml = fm_data_filtered\n",
    "test, train = fm_data_ml.randomSplit([0.8,0.2])\n",
    "\n",
    "#Predicting Based using Pipeline with various models\n",
    "#Stages 1-5: Perform indexation on categorical variables that we will use\n",
    "stage_1 = StringIndexer(inputCol='Based',outputCol='Based_Index')\n",
    "stage_2 = StringIndexer(inputCol='Nation',outputCol='Nation_Index')\n",
    "stage_3 = StringIndexer(inputCol='Best Pos',outputCol='BestPos_Index')\n",
    "stage_4 = StringIndexer(inputCol='Best Role',outputCol='BestRole_Index')\n",
    "stage_5 = StringIndexer(inputCol='Preferred Foot',outputCol='PreferredFoot_Index')\n",
    "\n",
    "#Stage 6: Perform OHE on these indexed variables\n",
    "stage_6 = OneHotEncoderEstimator(inputCols=[stage_1.getOutputCol(), \n",
    "                                            stage_2.getOutputCol(), \n",
    "                                            stage_3.getOutputCol(), \n",
    "                                            stage_4.getOutputCol(), \n",
    "                                            stage_5.getOutputCol()], \n",
    "                                 outputCols= ['Based_encoded', \n",
    "                                              'Nation_encoded',\n",
    "                                              'BestPos_encoded',\n",
    "                                              'BestRole_encoded',\n",
    "                                              'PreferredFoot_encoded'])\n",
    "\n",
    "#Stage 7: Assemble all predictors into a vector for use by the model \n",
    "stage_7 = VectorAssembler(inputCols=[  'Height',\n",
    "                                         'Weight',\n",
    "                                         'Age',\n",
    "                                         'CA',\n",
    "                                         'PA',\n",
    "                                         'Wor',\n",
    "                                         'Vis',\n",
    "                                         'Thr',\n",
    "                                         'Tec',\n",
    "                                         'Tea',\n",
    "                                         'Tck',\n",
    "                                         'Str',\n",
    "                                         'Sta',\n",
    "                                         'TRO',\n",
    "                                         'Ref',\n",
    "                                         'Pun',\n",
    "                                         'Pos',\n",
    "                                         'Pen',\n",
    "                                         'Pas',\n",
    "                                         'Pac',\n",
    "                                         '1v1',\n",
    "                                         'OtB',\n",
    "                                         'Nat',\n",
    "                                         'Mar',\n",
    "                                         'L Th',\n",
    "                                         'Lon',\n",
    "                                         'Ldr',\n",
    "                                         'Kic',\n",
    "                                         'Jum',\n",
    "                                         'Hea',\n",
    "                                         'Han',\n",
    "                                         'Fre',\n",
    "                                         'Fla',\n",
    "                                         'Fir',\n",
    "                                         'Fin',\n",
    "                                         'Ecc',\n",
    "                                         'Dri',\n",
    "                                         'Det',\n",
    "                                         'Dec',\n",
    "                                         'Cro',\n",
    "                                         'Cor',\n",
    "                                         'Cnt',\n",
    "                                         'Cmp',\n",
    "                                         'Com',\n",
    "                                         'Cmd',\n",
    "                                         'Bra',\n",
    "                                         'Bal',\n",
    "                                         'Ant',\n",
    "                                         'Agi',\n",
    "                                         'Agg',\n",
    "                                         'Aer',\n",
    "                                         'Acc',\n",
    "                                         'Based_encoded',\n",
    "                                         'Nation_encoded',\n",
    "                                         'BestPos_encoded',\n",
    "                                         'BestRole_encoded',\n",
    "                                         'PreferredFoot_encoded'],\n",
    "                           outputCol='features')\n",
    "\n",
    "#Stage 8: Index this vector for use in the model with 10 max categories\n",
    "stage_8 = VectorIndexer(inputCol=\"features\", \n",
    "                        outputCol=\"indexedFeatures\", \n",
    "                        maxCategories=10)\n",
    "\n",
    "#Stage 9: Index the response variable (label)\n",
    "stage_9 = StringIndexer(inputCol=\"Based\", \n",
    "                        outputCol=\"indexedLabel\")\n",
    "\n",
    "\n",
    "#Stage 10: Initialise the model of our choosing                      \n",
    "stage_10 = DecisionTreeClassifier(featuresCol='indexedFeatures',labelCol='indexedLabel')\n",
    "\n",
    "#Setup the Pipeline\n",
    "dt_pipeline = Pipeline(stages= [stage_1,\n",
    "                                stage_2, \n",
    "                                stage_3, \n",
    "                                stage_4, \n",
    "                                stage_5,\n",
    "                                stage_6,\n",
    "                                stage_7,\n",
    "                                stage_8,\n",
    "                                stage_9,\n",
    "                                stage_10])\n",
    "\n",
    "#Fit the pipeline\n",
    "model = dt_pipeline.fit(fm_data_ml)\n",
    "#Transform the data\n",
    "fm_data_ml = model.transform(fm_data_ml)\n",
    "\n",
    "#View Predicted values vs the Actuals\n",
    "fm_data_ml.select(\"prediction\", \"indexedLabel\", \"features\").show()"
   ]
  },
  {
   "cell_type": "code",
   "execution_count": 78,
   "id": "792c10c8",
   "metadata": {},
   "outputs": [
    {
     "name": "stdout",
     "output_type": "stream",
     "text": [
      "Test Error = 0.744552 \n"
     ]
    }
   ],
   "source": [
    "#Display the error of the model using the Classification Evaluator\n",
    "evaluator = MulticlassClassificationEvaluator(\n",
    "    labelCol=\"indexedLabel\", predictionCol=\"prediction\", metricName=\"accuracy\")\n",
    "accuracy = evaluator.evaluate(fm_data_ml)\n",
    "print(\"Test Error = %g \" % (1.0 - accuracy))\n"
   ]
  },
  {
   "cell_type": "markdown",
   "id": "94519ec9",
   "metadata": {},
   "source": [
    "Logistic Regression"
   ]
  },
  {
   "cell_type": "code",
   "execution_count": 84,
   "id": "0e47f3a4",
   "metadata": {},
   "outputs": [
    {
     "name": "stdout",
     "output_type": "stream",
     "text": [
      "+----------+------------+--------------------+\n",
      "|prediction|indexedLabel|            features|\n",
      "+----------+------------+--------------------+\n",
      "|       5.0|         5.0|(461,[0,1,2,3,4,5...|\n",
      "|      63.0|        63.0|(461,[0,1,2,3,4,5...|\n",
      "|       5.0|         5.0|(461,[0,1,2,3,4,5...|\n",
      "|       4.0|         4.0|(461,[0,1,2,3,4,5...|\n",
      "|       7.0|         7.0|(461,[0,1,2,3,4,5...|\n",
      "+----------+------------+--------------------+\n",
      "only showing top 5 rows\n",
      "\n"
     ]
    }
   ],
   "source": [
    "from pyspark.ml.classification import LogisticRegression\n",
    "\n",
    "#Resetting fm_data_ml for pipeline usage\n",
    "fm_data_ml = fm_data_filtered\n",
    "test, train = fm_data_ml.randomSplit([0.8,0.2])\n",
    "\n",
    "\n",
    "\n",
    "#Stage 10: Initialise the model of our choosing                          \n",
    "stage_10 = LogisticRegression(featuresCol='indexedFeatures',labelCol='indexedLabel')\n",
    "\n",
    "#Setup the pipeline\n",
    "lr_pipeline = Pipeline(stages= [stage_1,\n",
    "                                stage_2, \n",
    "                                stage_3, \n",
    "                                stage_4, \n",
    "                                stage_5,\n",
    "                                stage_6,\n",
    "                                stage_7,\n",
    "                                stage_8,\n",
    "                                stage_9,\n",
    "                                stage_10])\n",
    "\n",
    "#Fit the pipeline for the training data\n",
    "model = lr_pipeline.fit(train)\n",
    "#Transform the data\n",
    "fm_data_ml = model.transform(train)\n",
    "\n",
    "#View the predictions\n",
    "fm_data_ml.select(\"prediction\", \"indexedLabel\", \"features\").show(5)"
   ]
  },
  {
   "cell_type": "code",
   "execution_count": 85,
   "id": "46358ffe",
   "metadata": {},
   "outputs": [
    {
     "name": "stdout",
     "output_type": "stream",
     "text": [
      "Test Error = 0 \n"
     ]
    }
   ],
   "source": [
    "#Display the error of the model using the Classification Evaluator\n",
    "evaluator = MulticlassClassificationEvaluator(\n",
    "    labelCol=\"indexedLabel\", predictionCol=\"prediction\", metricName=\"accuracy\")\n",
    "accuracy = evaluator.evaluate(fm_data_ml)\n",
    "print(\"Test Error = %g \" % (1.0 - accuracy))\n"
   ]
  },
  {
   "cell_type": "markdown",
   "id": "3c4b816e",
   "metadata": {},
   "source": [
    "Random Forest"
   ]
  },
  {
   "cell_type": "code",
   "execution_count": 81,
   "id": "087bb730",
   "metadata": {},
   "outputs": [
    {
     "name": "stdout",
     "output_type": "stream",
     "text": [
      "+----------+------------+--------------------+\n",
      "|prediction|indexedLabel|            features|\n",
      "+----------+------------+--------------------+\n",
      "|       7.0|         7.0|(466,[0,1,2,3,4,5...|\n",
      "|       3.0|         3.0|(466,[0,1,2,3,4,5...|\n",
      "|       1.0|         1.0|(466,[0,1,2,3,4,5...|\n",
      "|       1.0|         1.0|(466,[0,1,2,3,4,5...|\n",
      "|       3.0|         3.0|(466,[0,1,2,3,4,5...|\n",
      "+----------+------------+--------------------+\n",
      "only showing top 5 rows\n",
      "\n"
     ]
    }
   ],
   "source": [
    "from pyspark.ml.classification import RandomForestClassifier\n",
    "\n",
    "#Resetting fm_data_ml for pipeline usage\n",
    "fm_data_ml = fm_data_filtered\n",
    "test, train = fm_data_ml.randomSplit([0.8,0.2])\n",
    "\n",
    "#Stage 10: Initialise the model of our choosing                           \n",
    "stage_10 = RandomForestClassifier(featuresCol='indexedFeatures',labelCol='indexedLabel')\n",
    "\n",
    "#Setup the pipeline\n",
    "rf_pipeline = Pipeline(stages= [stage_1,\n",
    "                                stage_2, \n",
    "                                stage_3, \n",
    "                                stage_4, \n",
    "                                stage_5,\n",
    "                                stage_6,\n",
    "                                stage_7,\n",
    "                                stage_8,\n",
    "                                stage_9,\n",
    "                                stage_10])\n",
    "\n",
    "#Fit the pipeline for the training data\n",
    "model = rf_pipeline.fit(train)\n",
    "#Transform the data\n",
    "fm_data_ml = model.transform(train)\n",
    "\n",
    "#View the predictions\n",
    "fm_data_ml.select(\"prediction\", \"indexedLabel\", \"features\").show(5)"
   ]
  },
  {
   "cell_type": "code",
   "execution_count": 82,
   "id": "2675fbe3",
   "metadata": {},
   "outputs": [
    {
     "name": "stdout",
     "output_type": "stream",
     "text": [
      "Test Error = 0.2523 \n"
     ]
    }
   ],
   "source": [
    "#Display the error of the model using the Classification Evaluator\n",
    "evaluator = MulticlassClassificationEvaluator(\n",
    "    labelCol=\"indexedLabel\", predictionCol=\"prediction\", metricName=\"accuracy\")\n",
    "accuracy = evaluator.evaluate(fm_data_ml)\n",
    "print(\"Test Error = %g \" % (1.0 - accuracy))\n"
   ]
  },
  {
   "cell_type": "code",
   "execution_count": null,
   "id": "3d92a0d6",
   "metadata": {},
   "outputs": [],
   "source": []
  },
  {
   "cell_type": "code",
   "execution_count": null,
   "id": "7773087f",
   "metadata": {},
   "outputs": [],
   "source": []
  }
 ],
 "metadata": {
  "kernelspec": {
   "display_name": "Python 3 (ipykernel)",
   "language": "python",
   "name": "python3"
  },
  "language_info": {
   "codemirror_mode": {
    "name": "ipython",
    "version": 3
   },
   "file_extension": ".py",
   "mimetype": "text/x-python",
   "name": "python",
   "nbconvert_exporter": "python",
   "pygments_lexer": "ipython3",
   "version": "3.7.11"
  }
 },
 "nbformat": 4,
 "nbformat_minor": 5
}
